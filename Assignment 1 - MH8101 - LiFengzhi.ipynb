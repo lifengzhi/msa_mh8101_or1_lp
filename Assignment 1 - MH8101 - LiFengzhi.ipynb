{
 "cells": [
  {
   "cell_type": "markdown",
   "metadata": {},
   "source": [
    "**Preamble**\n",
    "\n",
    "**Colloboration Policy**. The student is to *explicitly identify* his/her collaborators in the assignment. If the student did not work with anyone, he/she should indicate `Collaborators=['none']`. If the student obtains a solution through research (e.g., on the web), acknowledge the source, but *write up the solution in HIS/HER OWN WORDS*. There will be a one mark penalty if a student fails to indicate his/her collaborators.\n",
    "\n",
    "**There will be NO EXCEPTIONS to this grading policy.**"
   ]
  },
  {
   "cell_type": "raw",
   "metadata": {},
   "source": [
    "Name = 'Li Fengzhi'\n",
    "Collaborators = 'None'"
   ]
  },
  {
   "cell_type": "markdown",
   "metadata": {},
   "source": [
    "# Assignment 1 - Alternative Optimum\n",
    "\n",
    "If you need help on using Jupyter notebooks, click <a href='#help'>here</a>. \n",
    "\n",
    "Objectives:\n",
    "\n",
    "(a) Familiarize with the PuLP syntax and use PuLP to solve a linear programme (LP).\n",
    "\n",
    "(b) Determine if a LP is *degenerate* from a (PuLP) solution. In addition, compute alternative optimal solutions (if they exist) from a (PuLP) solution.\n"
   ]
  },
  {
   "cell_type": "markdown",
   "metadata": {},
   "source": [
    "\n",
    "## Hooper's Store\n",
    "\n",
    "Alan intends to sell some Abby's magical potions in Hooper's Store on Sesame street.\n",
    "\n",
    "According to Alan's estimates, the profit per bottle of Potion $i$ ($i=1,2,3,4$) is as follows. Note that negative profits for Potions 2 and 3 mean that Alan incurs losses when selling these potions.\n",
    "\n",
    "| Potions | 1 | 2 | 3 | 4 |\n",
    "|---------|---|---|---|---|\n",
    "|Profit (per bottle) |110|-30|-56|10 |\n",
    "\n",
    "However, the production of potions must adhere to the following rules:\n",
    "\n",
    "[A] $2x_2 + 5.2x_3 + 8.8\\le 10x_1\\le 7x_3 +13$;\n",
    "\n",
    "[B] $150x_1 +  10x_4      \\le 40x_2 +75x_3 + 145$; \n",
    "\n",
    "[C] $110x_2 + 286x_3 + 414\\le460x_1 +30x_4$.\n",
    "\n",
    "Here, $x_i$ denote the number of bottles of Potion $i$ that are produced.\n"
   ]
  },
  {
   "cell_type": "markdown",
   "metadata": {},
   "source": [
    "**(a) (5 marks)** You decide to use linear programming to solve Alan's problem. Formulate the linear programming problem and solve it using PuLP. \n",
    "\n",
    "NOTE: Your solution will **not** be integer. In (b), we will try to find **integer** optimal solutions."
   ]
  },
  {
   "cell_type": "code",
   "execution_count": 57,
   "metadata": {},
   "outputs": [
    {
     "name": "stdout",
     "output_type": "stream",
     "text": [
      "Hooper's Store Part_a:\n",
      "MAXIMIZE\n",
      "110*x1 + -30*x2 + -56*x3 + 10*x4 + 0\n",
      "SUBJECT TO\n",
      "Rule_A_1: - 10 x1 + 2 x2 + 5.2 x3 <= -8.8\n",
      "\n",
      "Rule_A_2: 10 x1 - 7 x3 <= 13\n",
      "\n",
      "Rule_B: 150 x1 - 40 x2 - 75 x3 + 10 x4 <= 145\n",
      "\n",
      "Rule_C: - 460 x1 + 110 x2 + 286 x3 - 30 x4 <= -414\n",
      "\n",
      "VARIABLES\n",
      "x1 Continuous\n",
      "x2 Continuous\n",
      "x3 Continuous\n",
      "x4 Continuous\n",
      "\n",
      "Maximum: 114.0\n",
      "x1: 1.3\n",
      "x2: 2.1\n",
      "x3: 0.0\n",
      "x4: 3.4\n"
     ]
    }
   ],
   "source": [
    "import pulp\n",
    "\n",
    "model = pulp.LpProblem(\"Hooper's Store Part_a\", pulp.LpMaximize)\n",
    "\n",
    "x1 = pulp.LpVariable('x1', lowBound=0)\n",
    "x2 = pulp.LpVariable('x2', lowBound=0)\n",
    "x3 = pulp.LpVariable('x3', lowBound=0)\n",
    "x4 = pulp.LpVariable('x4', lowBound=0)\n",
    "\n",
    "#objective function\n",
    "model += 110 * x1 - 30 * x2 - 56 * x3 + 10 * x4, \"Alan's Profit\"\n",
    "\n",
    "#Constraints\n",
    "\n",
    "#splitting Rule A into 2 parts\n",
    "model += 2 * x2 + 5.2 * x3 + 8.8 <= 10 * x1, \"Rule A_1\"\n",
    "model += 10 * x1 <= 7 * x3 + 13, \"Rule A_2\"\n",
    "model += 150 * x1 + 10 * x4 <= 40 * x2 + 75 * x3 + 145, \"Rule B\"\n",
    "model += 110 * x2 + 286 * x3 + 414 <= 460 * x1 + 30 * x4, \"Rule C\"\n",
    "\n",
    "print(model)\n",
    "\n",
    "model.solve()\n",
    "\n",
    "print(\"Maximum: {}\".format(pulp.value(model.objective)))\n",
    "\n",
    "print(\"x1: {}\".format(x1.varValue))\n",
    "print(\"x2: {}\".format(x2.varValue))\n",
    "print(\"x3: {}\".format(x3.varValue))\n",
    "print(\"x4: {}\".format(x4.varValue))\n"
   ]
  },
  {
   "cell_type": "markdown",
   "metadata": {},
   "source": [
    "**(b)** Notice that the solution in (a) is not integer. In other words, $x_1$, $x_2$, $x_3$, and $x_4$ are not all integers. Take the following steps to obtain an integer solution. \n",
    "\n",
    "\n",
    "**(i) (2 marks)** Introduce slack variables to the linear program in (a). Solve the new linear program using PuLP. \n",
    "\n",
    "NOTE: Your solution will **not** be integer. "
   ]
  },
  {
   "cell_type": "code",
   "execution_count": 58,
   "metadata": {},
   "outputs": [
    {
     "name": "stdout",
     "output_type": "stream",
     "text": [
      "Hooper's Store Part_b_1:\n",
      "MAXIMIZE\n",
      "110*x1 + -30*x2 + -56*x3 + 10*x4 + 0\n",
      "SUBJECT TO\n",
      "Rule_A_1: - 10 x1 + 2 x2 + 5.2 x3 + x5 = -8.8\n",
      "\n",
      "Rule_A_2: 10 x1 - 7 x3 + x6 = 13\n",
      "\n",
      "Rule_B: 150 x1 - 40 x2 - 75 x3 + 10 x4 + x7 = 145\n",
      "\n",
      "Rule_C: - 460 x1 + 110 x2 + 286 x3 - 30 x4 + x8 = -414\n",
      "\n",
      "VARIABLES\n",
      "x1 Continuous\n",
      "x2 Continuous\n",
      "x3 Continuous\n",
      "x4 Continuous\n",
      "x5 Continuous\n",
      "x6 Continuous\n",
      "x7 Continuous\n",
      "x8 Continuous\n",
      "\n",
      "Maximum: 114.0\n",
      "x1: 1.3\n",
      "x2: 2.1\n",
      "x3: 0.0\n",
      "x4: 3.4\n",
      "x5: 0.0\n",
      "x6: 0.0\n",
      "x7: 0.0\n",
      "x8: 55.0\n"
     ]
    }
   ],
   "source": [
    "import pulp\n",
    "\n",
    "slackmodel = pulp.LpProblem(\"Hooper's Store Part_b_1\", pulp.LpMaximize)\n",
    "\n",
    "x1 = pulp.LpVariable('x1', lowBound=0)\n",
    "x2 = pulp.LpVariable('x2', lowBound=0)\n",
    "x3 = pulp.LpVariable('x3', lowBound=0)\n",
    "x4 = pulp.LpVariable('x4', lowBound=0)\n",
    "x5 = pulp.LpVariable('x5', lowBound=0)\n",
    "x6 = pulp.LpVariable('x6', lowBound=0)\n",
    "x7 = pulp.LpVariable('x7', lowBound=0)\n",
    "x8 = pulp.LpVariable('x8', lowBound=0)\n",
    "\n",
    "#objective function\n",
    "slackmodel += 110 * x1 - 30 * x2 - 56 * x3 + 10 * x4, \"Alan's Profit\"\n",
    "\n",
    "#Constraints\n",
    "slackmodel += -10 * x1 + 2 * x2 + 5.2 * x3 + x5 == -8.8, \"Rule A_1\"\n",
    "slackmodel += 10 * x1 - 7 * x3 + x6 == 13, \"Rule A_2\"\n",
    "slackmodel += 150 * x1 - 40 * x2  - 75 * x3 + 10 * x4 + x7 == 145, \"Rule B\"\n",
    "slackmodel += -460 * x1 + 110 * x2 + 286 * x3 - 30 * x4 + x8 == -414, \"Rule C\"\n",
    "\n",
    "print(slackmodel)\n",
    "\n",
    "slackmodel.solve()\n",
    "\n",
    "print(\"Maximum: {}\".format(pulp.value(slackmodel.objective)))\n",
    "\n",
    "print(\"x1: {}\".format(x1.varValue))\n",
    "print(\"x2: {}\".format(x2.varValue))\n",
    "print(\"x3: {}\".format(x3.varValue))\n",
    "print(\"x4: {}\".format(x4.varValue))\n",
    "print(\"x5: {}\".format(x5.varValue))\n",
    "print(\"x6: {}\".format(x6.varValue))\n",
    "print(\"x7: {}\".format(x7.varValue))\n",
    "print(\"x8: {}\".format(x8.varValue))\n",
    "\n"
   ]
  },
  {
   "cell_type": "markdown",
   "metadata": {},
   "source": [
    "**(ii) (1 mark)** Identify the nonbasic and basic variables."
   ]
  },
  {
   "cell_type": "markdown",
   "metadata": {},
   "source": [
    "Basic Variables: **x1, x2, x4, x8** \n",
    "\n",
    "Nonbasic Variables:  **x3, x5, x6, x7** "
   ]
  },
  {
   "cell_type": "markdown",
   "metadata": {},
   "source": [
    "**(iii) (2 marks)** Rewrite the constraints as a matrix equation of the following form.\n",
    "$$ U \\left( \\begin{array}{c} Z \\\\ x_* \\\\ x_* \\\\ x_*\\\\ x_*\\end{array}\\right)\n",
    "\\quad\n",
    "V \\left( \\begin{array}{c} 1 \\\\ x_\\# \\\\ x_\\# \\\\ x_\\#\\\\ x_\\#\\end{array}\\right)\\,.\n",
    "$$\n",
    "Here, $x_*$'s are the basic variables, while $x_\\#$'s are the nonbasic variables.\n"
   ]
  },
  {
   "cell_type": "markdown",
   "metadata": {},
   "source": [
    "**Write your answer to (iii) here.**\n",
    "<a id='matrix'></a>\n",
    "\n",
    "$$ \n",
    "\\left(\n",
    "\\begin{array}{ccccc}\n",
    "1  & -110 & 30  & -10 & 0\\\\\n",
    "0  & -10  & 2   & 0   & 0\\\\\n",
    "0  & 10   & 0   & 0   & 0\\\\\n",
    "0  & 150  & -40 & 10  & 0\\\\\n",
    "0  & -460 & 110 & -30 & 1\\\\\n",
    "\\end{array}\n",
    "\\right)\n",
    "\\quad\n",
    "\\left(\n",
    "\\begin{array}{c}\n",
    "Z\\\\\n",
    "x1\\\\\n",
    "x2\\\\\n",
    "x4\\\\\n",
    "x8\\\\\n",
    "\\end{array}\n",
    "\\right)\n",
    "\\quad\n",
    "\\left(\n",
    "\\begin{array}{ccccc}\n",
    "0    & -56  &  0   & 0  & 0\\\\\n",
    "-8.8 & -5.2 &  -1  & 0  & 0\\\\\n",
    "13   & 7    & 0    & -1 & 0\\\\\n",
    "145  & 75   & 0    & 0  & -1\\\\\n",
    "-414 & -286 & 0    & 0  & 0\\\\\n",
    "\\end{array}\n",
    "\\right)\n",
    "\\quad\n",
    "\\left(\n",
    "\\begin{array}{c}\n",
    "1\\\\\n",
    "x3\\\\\n",
    "x5\\\\\n",
    "x6\\\\\n",
    "x7\\\\\n",
    "\\end{array}\n",
    "\\right)\\,\n",
    "$$\n",
    "\n"
   ]
  },
  {
   "cell_type": "markdown",
   "metadata": {},
   "source": [
    "**(iv) (2 marks)** Using (iii), explain why the LP has alternative optimum. If you need help on using `numpy` for matrix operations, click <a href='#matrix'>here</a>. \n",
    "\n",
    "NOTE: There are numerical issues with `Python`. So you may assume values smaller than $10^{-4}$ to be zero.\n"
   ]
  },
  {
   "cell_type": "code",
   "execution_count": 65,
   "metadata": {},
   "outputs": [
    {
     "name": "stdout",
     "output_type": "stream",
     "text": [
      "[[114.    0.   -5.   -1.   -1. ]\n",
      " [  1.3   0.7  -0.   -0.1  -0. ]\n",
      " [  2.1   0.9  -0.5  -0.5  -0. ]\n",
      " [  3.4   0.6  -2.   -0.5  -0.1]\n",
      " [ 55.  -45.   -5.   -6.   -3. ]]\n"
     ]
    }
   ],
   "source": [
    "import numpy as np \n",
    "\n",
    "np.set_printoptions(precision = 2, suppress = True)\n",
    "\n",
    "# Matrix U & V are just copied from section above. \n",
    "\n",
    "U = np.matrix([\n",
    "    [1,   -110,  30,  -10,  0],\n",
    "    [0,   -10,   2,   0,    0],\n",
    "    [0,   10,    0,   0,    0],\n",
    "    [0,   150,   -40, 10,   0],\n",
    "    [0,   -460,  110, -30,  1]\n",
    "]\n",
    ")\n",
    "\n",
    "V = np.matrix([\n",
    "    [0,    -56,  0,   0,  0],\n",
    "    [-8.8, -5.2, -1,  0,  0],\n",
    "    [13,   7,    0,   -1, 0],\n",
    "    [145,  75,   0,   0,  -1],\n",
    "    [-414, -286, 0,   0,  0]\n",
    "]\n",
    ")\n",
    "\n",
    "M = np.linalg.inv(U)*V\n",
    "print(M)\n"
   ]
  },
  {
   "cell_type": "markdown",
   "metadata": {},
   "source": [
    "**Write your answer to (iv) here.**\n",
    "\n",
    "\n",
    "**ANSWER: After representing the BV using NBV from the matrix operation, observe the profit equation,**\n",
    "\n",
    "$Z = 114 + 0 * x3 - 5 * x5 - x6 - x7 $ \n",
    "\n",
    "**The coefficient of x3 term is '0'. Having a value of '0' indicates zero profit increase from x3. Degeneracy occurs and that's how we tell the LP has alternative optimum.**\n"
   ]
  },
  {
   "cell_type": "markdown",
   "metadata": {},
   "source": [
    "**(v) (2 marks)** Determine the set of alternative optimum. "
   ]
  },
  {
   "cell_type": "markdown",
   "metadata": {},
   "source": [
    "**Write your answer to (v) here.**\n",
    "\n",
    "**ANSWER: Given that x3, x5, x6, x7 are NBVs, let's make x5=x6=x7=0, and based on the matrix computed from section above,**\n",
    "\n",
    "$x1 = 1.3 + 0.7x3$;\n",
    "\n",
    "$x2 = 2.1 + 0.9x3$;\n",
    "\n",
    "$x4 = 3.4 + 0.6x3$;\n",
    "\n",
    "$x8 = 55 - 45x3$;\n",
    "\n",
    "**The complete optimal solution set can be expressed as,** \n",
    "\n",
    "$$\n",
    "\\left(\n",
    "\\begin{array}{c}\n",
    "x1, & x2, & x3,  & x4, & x5, & x6, & x7, & x8\\\\\n",
    "\\end{array}\n",
    "\\right)\n",
    "=\n",
    "\\left(\n",
    "\\begin{array}{c}\n",
    " 1.3 +0.7x3,  & 2.1 +0.9x3, & x3,  & 3.4 + 0.6x3, & 0, & 0, & 0, & 55 - 45x3\\\\\n",
    "\\end{array}\n",
    "\\right)\\,\n",
    "$$\n",
    "**with x3 from $0 \\le x3 \\le 11/9$**"
   ]
  },
  {
   "cell_type": "markdown",
   "metadata": {},
   "source": [
    "**(vi) (1 mark)** Find an **integer** feasible solution whose objective value is optimal."
   ]
  },
  {
   "cell_type": "code",
   "execution_count": 55,
   "metadata": {},
   "outputs": [
    {
     "name": "stdout",
     "output_type": "stream",
     "text": [
      "Hooper's Store Part_Integer:\n",
      "MAXIMIZE\n",
      "110*x1 + -30*x2 + -56*x3 + 10*x4 + 0\n",
      "SUBJECT TO\n",
      "Rule_A_1: - 10 x1 + 2 x2 + 5.2 x3 + x5 = -8.8\n",
      "\n",
      "Rule_A_2: 10 x1 - 7 x3 + x6 = 13\n",
      "\n",
      "Rule_B: 150 x1 - 40 x2 - 75 x3 + 10 x4 + x7 = 145\n",
      "\n",
      "Rule_C: - 460 x1 + 110 x2 + 286 x3 - 30 x4 + x8 = -414\n",
      "\n",
      "VARIABLES\n",
      "0 <= x1 Integer\n",
      "0 <= x2 Integer\n",
      "0 <= x3 Integer\n",
      "0 <= x4 Integer\n",
      "x5 Continuous\n",
      "x6 Continuous\n",
      "x7 Continuous\n",
      "x8 Continuous\n",
      "\n",
      "Maximum: 114.0\n",
      "x1: 2.0\n",
      "x2: 3.0\n",
      "x3: 1.0\n",
      "x4: 4.0\n",
      "x5: 0.0\n",
      "x6: 0.0\n",
      "x7: 0.0\n",
      "x8: 10.0\n"
     ]
    }
   ],
   "source": [
    "#In short, the only change that returns integer feasible solution is to add [cat] parameter when declaring \n",
    "#Decision varibles\n",
    "\n",
    "import pulp\n",
    "\n",
    "slackmodel = pulp.LpProblem(\"Hooper's Store Part_Integer\", pulp.LpMaximize)\n",
    "\n",
    "x1 = pulp.LpVariable('x1', lowBound=0, cat='Integer')\n",
    "x2 = pulp.LpVariable('x2', lowBound=0, cat='Integer')\n",
    "x3 = pulp.LpVariable('x3', lowBound=0, cat='Integer')\n",
    "x4 = pulp.LpVariable('x4', lowBound=0, cat='Integer')\n",
    "x5 = pulp.LpVariable('x5', lowBound=0)\n",
    "x6 = pulp.LpVariable('x6', lowBound=0)\n",
    "x7 = pulp.LpVariable('x7', lowBound=0)\n",
    "x8 = pulp.LpVariable('x8', lowBound=0)\n",
    "\n",
    "#objective function\n",
    "slackmodel += 110 * x1 - 30 * x2 - 56 * x3 + 10 * x4, \"Alan's Profit\"\n",
    "\n",
    "#Constraints\n",
    "slackmodel += -10 * x1 + 2 * x2 + 5.2 * x3 + x5 == -8.8, \"Rule A_1\"\n",
    "slackmodel += 10 * x1 - 7 * x3 + x6 == 13, \"Rule A_2\"\n",
    "slackmodel += 150 * x1 - 40 * x2  - 75 * x3 + 10 * x4 + x7 == 145, \"Rule B\"\n",
    "slackmodel += -460 * x1 + 110 * x2 + 286 * x3 - 30 * x4 + x8 == -414, \"Rule C\"\n",
    "\n",
    "print(slackmodel)\n",
    "\n",
    "slackmodel.solve()\n",
    "\n",
    "print(\"Maximum: {}\".format(pulp.value(slackmodel.objective)))\n",
    "\n",
    "print(\"x1: {}\".format(x1.varValue))\n",
    "print(\"x2: {}\".format(x2.varValue))\n",
    "print(\"x3: {}\".format(x3.varValue))\n",
    "print(\"x4: {}\".format(x4.varValue))\n",
    "print(\"x5: {}\".format(x5.varValue))\n",
    "print(\"x6: {}\".format(x6.varValue))\n",
    "print(\"x7: {}\".format(x7.varValue))\n",
    "print(\"x8: {}\".format(x8.varValue))\n"
   ]
  },
  {
   "cell_type": "markdown",
   "metadata": {},
   "source": [
    "---"
   ]
  }
 ],
 "metadata": {
  "kernelspec": {
   "display_name": "Python 3",
   "language": "python",
   "name": "python3"
  },
  "language_info": {
   "codemirror_mode": {
    "name": "ipython",
    "version": 3
   },
   "file_extension": ".py",
   "mimetype": "text/x-python",
   "name": "python",
   "nbconvert_exporter": "python",
   "pygments_lexer": "ipython3",
   "version": "3.7.3"
  }
 },
 "nbformat": 4,
 "nbformat_minor": 2
}
