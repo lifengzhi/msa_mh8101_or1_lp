{
 "cells": [
  {
   "cell_type": "markdown",
   "metadata": {},
   "source": [
    "**Preamble**\n",
    "\n",
    "**Colloboration Policy**. The student is to *explicitly identify* his/her collaborators in the assignment. If the student did not work with anyone, he/she should indicate `Collaborators=['none']`. If the student obtains a solution through research (e.g., on the web), acknowledge the source, but *write up the solution in HIS/HER OWN WORDS*. There will be a one mark penalty if a student fails to indicate his/her collaborators.\n",
    "\n",
    "**There will be NO EXCEPTIONS to this grading policy.**"
   ]
  },
  {
   "cell_type": "raw",
   "metadata": {},
   "source": [
    "Name = 'CHANGETHIS'\n",
    "Collaborators = 'CHANGETHIS'"
   ]
  },
  {
   "cell_type": "markdown",
   "metadata": {},
   "source": [
    "## Transportation Problem\n",
    "\n",
    "If you need help on using iPython notebooks, click <a href='#help'>here</a>. \n",
    "\n",
    "Assignment objectives:\n",
    "\n",
    "i. Familiarize with the PuLP syntax and use PuLP to solve transportation problems. Click <a href='#transport_help'>here</a> for a working example.\n",
    "\n",
    "ii. Solve *unbalanced* transportation problems by (a) using PuLP directly, and (b) introducing a dummy city and using PuLP to solve the balanced version. You expect that the answers from both methods are the same.\n",
    "\n",
    "-----"
   ]
  },
  {
   "cell_type": "markdown",
   "metadata": {},
   "source": [
    "### Mortarboard Problem\n",
    "\n",
    "Your company manufactures mortarboards and supplies to the six universities (NUS, NTU, SMU, SUTD, SIT, SUSS) in Singapore. You have have three factories in three locations: Jurong, Woodlands, Changi.\n",
    "\n",
    "The demand, supply and transportation costs are summarized in the following table.\n",
    "\n",
    "|         |NUS|NTU|SMU|SUTD|SIT|SUSS|Supply|\n",
    "|---------|---|---|---|----|---|----|------|\n",
    "|Jurong   | 14| 2 | 25| 37 | 16| 14 | 40   |\n",
    "|Woodlands| 22| 21| 29| 37 | 23| 20 | 40   |\n",
    "|Changi   | 28| 37| 19| 1  | 30| 26 | 40   |\n",
    "|Demand   | 39| 31| 10| 1  | 5 | 13 |\n"
   ]
  },
  {
   "cell_type": "markdown",
   "metadata": {},
   "source": [
    "**(a) (7 marks)** Using PuLP directly, minimize the transportation costs while meeting the demands of all universities.\n",
    "\n",
    "<span style=\"color:blue\">Remember to display the costs and the number of mortarboards to be transported along each route.</span>\n"
   ]
  },
  {
   "cell_type": "code",
   "execution_count": 1,
   "metadata": {
    "collapsed": false
   },
   "outputs": [],
   "source": [
    "import pulp\n",
    "\n",
    "# WRITE YOUR CODE HERE\n",
    "\n",
    "\n"
   ]
  },
  {
   "cell_type": "markdown",
   "metadata": {},
   "source": [
    "---\n",
    "Notice that the total supply (120) exceeds total demand (99). In other words, this is an *unbalanced* transportation problem.\n",
    "\n",
    "To create a *balanced* instance, we introduce a \"dummy\" university, whose demand is the excess supply (21=120-99). The costs from each factory to the dummy university is set to zero. In other words, the modified demand, supply and transportation costs are summarized in the following table.\n",
    "\n",
    "|         |NUS|NTU|SMU|SUTD|SIT|SUSS|Dummy|Supply|\n",
    "|---------|---|---|---|----|---|----|-----|------|\n",
    "|Jurong   | 14| 2 | 25| 37 | 16| 14 | 0   | 40   |\n",
    "|Woodlands| 22| 21| 29| 37 | 23| 20 | 0   | 40   |\n",
    "|Changi   | 28| 37| 19| 1  | 30| 26 | 0   | 40   |\n",
    "|Demand   | 39| 31| 10| 1  | 5 | 13 | 21  |\n"
   ]
  },
  {
   "cell_type": "markdown",
   "metadata": {},
   "source": [
    "**(b) (7 marks)** Using PuLP to minimize the transportation costs for the modified problem.\n",
    "\n",
    "<span style=\"color:blue\">Remember to display the costs and the number of mortarboards to be transported along each route.\n"
   ]
  },
  {
   "cell_type": "code",
   "execution_count": 2,
   "metadata": {
    "collapsed": false,
    "scrolled": false
   },
   "outputs": [],
   "source": [
    "import pulp\n",
    "\n",
    "# WRITE YOUR CODE HERE\n",
    "\n",
    "'''\n",
    "Remember that all constraints are equality constraints\n",
    "for balanced transportation problems.\n",
    "'''\n",
    "\n",
    "import pulp\n",
    "\n",
    "# WRITE YOUR CODE HERE\n",
    "\n"
   ]
  },
  {
   "cell_type": "markdown",
   "metadata": {},
   "source": [
    "**(c) (1 mark)** In the optimal solution, what is the amount of mortarboards left in each factory?"
   ]
  },
  {
   "cell_type": "raw",
   "metadata": {},
   "source": [
    "Leftover in Jurong:\n",
    "Leftover in Woodlands:\n",
    "Leftover in Changi:"
   ]
  },
  {
   "cell_type": "markdown",
   "metadata": {},
   "source": [
    "---\n",
    "<a id='help'></a>\n",
    "**Using iPython Notebooks**. When you click to the left of this box, you will notice that this box is highlighted by a slighly larger box. This is a *cell*. \n",
    "\n",
    "There are three types of cells in a notebook.\n",
    "\n",
    "1. Markdown.\n",
    "2. Code.\n",
    "3. Raw.\n",
    "\n",
    "You can change the type of cell by going to the tool bar.\n",
    "\n",
    "You can *evaluate* cells by hitting **Shift+Enter**. Depending on the type of cells, you will have different outputs."
   ]
  },
  {
   "cell_type": "markdown",
   "metadata": {},
   "source": [
    "---\n",
    "\n",
    "This is a **markdown** cell. Markdown is a lightweight markup language is similar to *html* with significantly less functionalities. However, the syntax is much simpler. You can find a [Markdown Cheatsheet here](https://github.com/adam-p/markdown-here/wiki/Markdown-Cheatsheet).\n",
    "\n",
    "---"
   ]
  },
  {
   "cell_type": "code",
   "execution_count": null,
   "metadata": {
    "collapsed": true
   },
   "outputs": [],
   "source": [
    "# This is a CODE cell.\n",
    "# After you hit Shift+Enter, it evaluates the cell in Python.\n",
    "# Take note that in Python, to comment lines, you use the symbol #\n",
    "\n",
    "print(\"Hello World!\")"
   ]
  },
  {
   "cell_type": "raw",
   "metadata": {},
   "source": [
    "----\n",
    "\n",
    "This is a *raw* cell. Nothing happens when you hit Shift+Enter.\n",
    "\n",
    "----"
   ]
  },
  {
   "cell_type": "markdown",
   "metadata": {},
   "source": [
    "**Answering Questions**. You may choose to use *raw* or *markdown* cells to answer the questions. Of course, if the answer requires you to run a routine in Python, please use a *code* cell.\n"
   ]
  },
  {
   "cell_type": "markdown",
   "metadata": {
    "collapsed": true
   },
   "source": [
    "---\n",
    "<a id='transport_help'></a>\n",
    "\n",
    "## Solving Transportation Problem using PuLP\n",
    "\n",
    "Extracted from this\n",
    "<a href='https://www.coin-or.org/PuLP/CaseStudies/a_transportation_problem.html'>documentation</a>, click the link for more details.\n"
   ]
  },
  {
   "cell_type": "code",
   "execution_count": 22,
   "metadata": {
    "collapsed": false
   },
   "outputs": [
    {
     "name": "stdout",
     "output_type": "stream",
     "text": [
      "Beer Distribution Problem:\n",
      "MINIMIZE\n",
      "2*Route_A_1 + 4*Route_A_2 + 5*Route_A_3 + 2*Route_A_4 + 1*Route_A_5 + 3*Route_B_1 + 1*Route_B_2 + 3*Route_B_3 + 2*Route_B_4 + 3*Route_B_5 + 0\n",
      "SUBJECT TO\n",
      "Sum_of_Products_out_of_Warehouse_A: Route_A_1 + Route_A_2 + Route_A_3\n",
      " + Route_A_4 + Route_A_5 <= 1000\n",
      "\n",
      "Sum_of_Products_out_of_Warehouse_B: Route_B_1 + Route_B_2 + Route_B_3\n",
      " + Route_B_4 + Route_B_5 <= 4000\n",
      "\n",
      "Sum_of_Products_into_Bars_1: Route_A_1 + Route_B_1 >= 500\n",
      "\n",
      "Sum_of_Products_into_Bars_2: Route_A_2 + Route_B_2 >= 900\n",
      "\n",
      "Sum_of_Products_into_Bars_3: Route_A_3 + Route_B_3 >= 1800\n",
      "\n",
      "Sum_of_Products_into_Bars_4: Route_A_4 + Route_B_4 >= 200\n",
      "\n",
      "Sum_of_Products_into_Bars_5: Route_A_5 + Route_B_5 >= 700\n",
      "\n",
      "VARIABLES\n",
      "Route_A_1 Continuous\n",
      "Route_A_2 Continuous\n",
      "Route_A_3 Continuous\n",
      "Route_A_4 Continuous\n",
      "Route_A_5 Continuous\n",
      "Route_B_1 Continuous\n",
      "Route_B_2 Continuous\n",
      "Route_B_3 Continuous\n",
      "Route_B_4 Continuous\n",
      "Route_B_5 Continuous\n",
      "\n",
      "model status:  Optimal\n",
      "Minimum Cost: 8600.0\n",
      "Amount to be transported along Route_A_1: 300.0\n",
      "Amount to be transported along Route_A_2: 0.0\n",
      "Amount to be transported along Route_A_3: 0.0\n",
      "Amount to be transported along Route_A_4: 0.0\n",
      "Amount to be transported along Route_A_5: 700.0\n",
      "Amount to be transported along Route_B_1: 200.0\n",
      "Amount to be transported along Route_B_2: 900.0\n",
      "Amount to be transported along Route_B_3: 1800.0\n",
      "Amount to be transported along Route_B_4: 200.0\n",
      "Amount to be transported along Route_B_5: 0.0\n"
     ]
    }
   ],
   "source": [
    "\"\"\"\n",
    "The Beer Distribution Problem for the PuLP Modeller\n",
    "\n",
    "Authors: Antony Phillips, Dr Stuart Mitchell    2007\n",
    "\"\"\"\n",
    "\n",
    "# Import PuLP modeller functions\n",
    "import pulp\n",
    "\n",
    "# Creates a list of all the supply nodes\n",
    "Warehouses = [\"A\",\"B\"]\n",
    "\n",
    "# Creates a dictionary for the number of units of supply for each supply node\n",
    "supply = {\"A\": 1000,\n",
    "        \"B\": 4000}\n",
    "\n",
    "# Creates a list of all demand nodes\n",
    "Bars = [\"1\", \"2\", \"3\", \"4\", \"5\"]\n",
    "\n",
    "# Creates a dictionary for the number of units of demand for each demand node\n",
    "demand = {\"1\": 500,\n",
    "        \"2\": 900,\n",
    "        \"3\": 1800,\n",
    "        \"4\": 200,\n",
    "        \"5\": 700}\n",
    "\n",
    "# Creates a list of costs of each transportation path\n",
    "costs = { \"A\" : {\"1\" : 2, \"2\" : 4, \"3\" : 5, \"4\" : 2, \"5\" : 1 },\n",
    "          \"B\" : {\"1\" : 3, \"2\" : 1, \"3\" : 3, \"4\" : 2, \"5\" : 3 }}\n",
    "\n",
    "# Creates the prob variable to contain the problem data\n",
    "prob = LpProblem(\"Beer Distribution Problem\",LpMinimize)\n",
    "\n",
    "# Creates a list of tuples containing all the possible routes for transport\n",
    "Routes = [(w,b) for w in Warehouses for b in Bars]\n",
    "\n",
    "# A dictionary called route_vars is created to contain the referenced variables (the routes)\n",
    "route_vars = LpVariable.dicts(\"Route\",(Warehouses,Bars),lowBound=0)\n",
    "\n",
    "# The objective function is added to prob first\n",
    "prob += lpSum([route_vars[w][b]*costs[w][b] for (w,b) in Routes]), \"Sum of Transporting Costs\"\n",
    "\n",
    "# The supply maximum constraints are added to prob for each supply node (warehouse)\n",
    "for w in Warehouses:\n",
    "    prob += lpSum([route_vars[w][b] for b in Bars]) <= supply[w], \"Sum of Products out of Warehouse %s\"%w\n",
    "\n",
    "# The demand minimum constraints are added to prob for each demand node (bar)\n",
    "for b in Bars:\n",
    "    prob += lpSum([route_vars[w][b] for w in Warehouses]) >= demand[b], \"Sum of Products into Bars %s\"%b\n",
    "\n",
    "print(prob)\n",
    "\n",
    "prob.solve()\n",
    "\n",
    "print(\"model status: \",pulp.LpStatus[prob.status])\n",
    "\n",
    "print(\"Minimum Cost: {}\".format(pulp.value(prob.objective)))\n",
    "\n",
    "for (w,b) in Routes:\n",
    "    print(\"Amount to be transported along {}: {}\".format(route_vars[w][b],route_vars[w][b].varValue))"
   ]
  },
  {
   "cell_type": "code",
   "execution_count": null,
   "metadata": {
    "collapsed": true
   },
   "outputs": [],
   "source": []
  }
 ],
 "metadata": {
  "kernelspec": {
   "display_name": "Python 3",
   "language": "python",
   "name": "python3"
  },
  "language_info": {
   "codemirror_mode": {
    "name": "ipython",
    "version": 3
   },
   "file_extension": ".py",
   "mimetype": "text/x-python",
   "name": "python",
   "nbconvert_exporter": "python",
   "pygments_lexer": "ipython3",
   "version": "3.6.0"
  }
 },
 "nbformat": 4,
 "nbformat_minor": 2
}
