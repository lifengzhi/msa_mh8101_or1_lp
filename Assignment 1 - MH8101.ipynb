{
 "cells": [
  {
   "cell_type": "markdown",
   "metadata": {},
   "source": [
    "**Preamble**\n",
    "\n",
    "**Colloboration Policy**. The student is to *explicitly identify* his/her collaborators in the assignment. If the student did not work with anyone, he/she should indicate `Collaborators=['none']`. If the student obtains a solution through research (e.g., on the web), acknowledge the source, but *write up the solution in HIS/HER OWN WORDS*. There will be a one mark penalty if a student fails to indicate his/her collaborators.\n",
    "\n",
    "**There will be NO EXCEPTIONS to this grading policy.**"
   ]
  },
  {
   "cell_type": "raw",
   "metadata": {},
   "source": [
    "Name = 'CHANGETHIS'\n",
    "Collaborators = 'CHANGETHIS'"
   ]
  },
  {
   "cell_type": "markdown",
   "metadata": {},
   "source": [
    "# Assignment 1 - Alternative Optimum\n",
    "\n",
    "If you need help on using Jupyter notebooks, click <a href='#help'>here</a>. \n",
    "\n",
    "Objectives:\n",
    "\n",
    "(a) Familiarize with the PuLP syntax and use PuLP to solve a linear programme (LP).\n",
    "\n",
    "(b) Determine if a LP is *degenerate* from a (PuLP) solution. In addition, compute alternative optimal solutions (if they exist) from a (PuLP) solution.\n"
   ]
  },
  {
   "cell_type": "markdown",
   "metadata": {},
   "source": [
    "\n",
    "## Hooper's Store\n",
    "\n",
    "Alan intends to sell some Abby's magical potions in Hooper's Store on Sesame street.\n",
    "\n",
    "According to Alan's estimates, the profit per bottle of Potion $i$ ($i=1,2,3,4$) is as follows. Note that negative profits for Potions 2 and 3 mean that Alan incurs losses when selling these potions.\n",
    "\n",
    "| Potions | 1 | 2 | 3 | 4 |\n",
    "|---------|---|---|---|---|\n",
    "|Profit (per bottle) |110|-30|-56|17 |\n",
    "\n",
    "However, the production of potions must adhere to the following rules:\n",
    "\n",
    "[A] $2x_2 + 5.2x_3 + 8.8\\le 10x_1\\le 7x_3 +13$;\n",
    "\n",
    "[B] $150x_1 +  10x_4      \\le 40x_2 +75x_3 + 145$; \n",
    "\n",
    "[C] $110x_2 + 286x_3 + 414\\le460x_1 +30x_4$.\n",
    "\n",
    "Here, $x_i$ denote the number of bottles of Potion $i$ that are produced.\n"
   ]
  },
  {
   "cell_type": "markdown",
   "metadata": {},
   "source": [
    "**(a) (5 marks)** You decide to use linear programming to solve Alan's problem. Formulate the linear programming problem and solve it using PuLP. \n",
    "\n",
    "NOTE: Your solution will **not** be integer. In (b), we will try to find **integer** optimal solutions."
   ]
  },
  {
   "cell_type": "code",
   "execution_count": null,
   "metadata": {},
   "outputs": [],
   "source": [
    "import pulp\n",
    "\n",
    "model = pulp.LpProblem(\"CHANGETHIS\", CHANGETHIS)\n",
    "\n",
    "x1 = pulp.LpVariable('x1', lowBound=0)\n",
    "x2 = pulp.LpVariable('x2', lowBound=0)\n",
    "x3 = pulp.LpVariable('x3', lowBound=0)\n",
    "x4 = pulp.LpVariable('x4', lowBound=0)\n",
    "\n",
    "# WRITE YOUR CODE HERE\n",
    "\n",
    "print(model)\n",
    "\n",
    "model.solve()\n",
    "\n",
    "print(\"Maximum: {}\".format(pulp.value(model.objective)))\n",
    "\n",
    "print(\"x1: {}\".format(x1.varValue))\n",
    "print(\"x2: {}\".format(x2.varValue))\n",
    "print(\"x3: {}\".format(x3.varValue))\n",
    "print(\"x4: {}\".format(x4.varValue))\n"
   ]
  },
  {
   "cell_type": "markdown",
   "metadata": {},
   "source": [
    "**(b)** Notice that the solution in (a) is not integer. In other words, $x_1$, $x_2$, $x_3$, and $x_4$ are not all integers. Take the following steps to obtain an integer solution. \n",
    "\n",
    "\n",
    "**(i) (2 marks)** Introduce slack variables to the linear program in (a). Solve the new linear program using PuLP. \n",
    "\n",
    "NOTE: Your solution will **not** be integer. "
   ]
  },
  {
   "cell_type": "code",
   "execution_count": null,
   "metadata": {},
   "outputs": [],
   "source": [
    "import pulp\n",
    "\n",
    "# slackmodel = pulp.LpProblem(\"CHANGETHIS\", CHANGETHIS)\n",
    "\n",
    "x1 = pulp.LpVariable('x1', lowBound=0)\n",
    "x2 = pulp.LpVariable('x2', lowBound=0)\n",
    "x3 = pulp.LpVariable('x3', lowBound=0)\n",
    "x4 = pulp.LpVariable('x4', lowBound=0)\n",
    "x5 = pulp.LpVariable('x5', lowBound=0)\n",
    "x6 = pulp.LpVariable('x6', lowBound=0)\n",
    "x7 = pulp.LpVariable('x7', lowBound=0)\n",
    "x8 = pulp.LpVariable('x8', lowBound=0)\n",
    "\n",
    "# WRITE YOUR CODE HERE\n",
    "\n",
    "\n",
    "print(slackmodel)\n",
    "\n",
    "slackmodel.solve()\n",
    "\n",
    "print(\"Maximum: {}\".format(pulp.value(slackmodel.objective)))\n",
    "\n",
    "print(\"x1: {}\".format(x1.varValue))\n",
    "print(\"x2: {}\".format(x2.varValue))\n",
    "print(\"x3: {}\".format(x3.varValue))\n",
    "print(\"x4: {}\".format(x4.varValue))\n",
    "print(\"x5: {}\".format(x5.varValue))\n",
    "print(\"x6: {}\".format(x6.varValue))\n",
    "print(\"x7: {}\".format(x7.varValue))\n",
    "print(\"x8: {}\".format(x8.varValue))\n",
    "\n"
   ]
  },
  {
   "cell_type": "markdown",
   "metadata": {},
   "source": [
    "**(ii) (1 mark)** Identify the nonbasic and basic variables."
   ]
  },
  {
   "cell_type": "markdown",
   "metadata": {},
   "source": [
    "Basic Variables: **Your answer comes here.** \n",
    "\n",
    "Nonbasic Variables:  **Your answer comes here.** "
   ]
  },
  {
   "cell_type": "markdown",
   "metadata": {},
   "source": [
    "**(iii) (2 marks)** Rewrite the constraints as a matrix equation of the following form.\n",
    "$$ U \\left( \\begin{array}{c} Z \\\\ x_* \\\\ x_* \\\\ x_*\\\\ x_*\\end{array}\\right)\n",
    "\\quad\n",
    "V \\left( \\begin{array}{c} 1 \\\\ x_\\# \\\\ x_\\# \\\\ x_\\#\\\\ x_\\#\\end{array}\\right)\\,.\n",
    "$$\n",
    "Here, $x_*$'s are the basic variables, while $x_\\#$'s are the nonbasic variables.\n"
   ]
  },
  {
   "cell_type": "markdown",
   "metadata": {},
   "source": [
    "**Write your answer to (iii) here.**\n",
    "\n"
   ]
  },
  {
   "cell_type": "markdown",
   "metadata": {},
   "source": [
    "**(iv) (2 marks)** Using (iii), explain why the LP has alternative optimum. If you need help on using `numpy` for matrix operations, click <a href='#matrix'>here</a>. \n",
    "\n",
    "NOTE: There are numerical issues with `Python`. So you may assume values smaller than $10^{-4}$ to be zero.\n"
   ]
  },
  {
   "cell_type": "code",
   "execution_count": null,
   "metadata": {},
   "outputs": [],
   "source": [
    "import numpy as np \n",
    "\n",
    "# You may use numpy to do the computations\n"
   ]
  },
  {
   "cell_type": "markdown",
   "metadata": {},
   "source": [
    "**Write your answer to (iv) here.**\n",
    "\n"
   ]
  },
  {
   "cell_type": "markdown",
   "metadata": {},
   "source": [
    "**(v) (2 marks)** Determine the set of alternative optimum. "
   ]
  },
  {
   "cell_type": "markdown",
   "metadata": {},
   "source": [
    "**Write your answer to (v) here.**"
   ]
  },
  {
   "cell_type": "markdown",
   "metadata": {},
   "source": [
    "**(vi) (1 mark)** Find an **integer** feasible solution whose objective value is optimal."
   ]
  },
  {
   "cell_type": "markdown",
   "metadata": {},
   "source": [
    "**Write your answer to (vi) here.**|\n"
   ]
  },
  {
   "cell_type": "markdown",
   "metadata": {},
   "source": [
    "---"
   ]
  },
  {
   "cell_type": "markdown",
   "metadata": {},
   "source": [
    "### Using `numpy` for matrix operations\n",
    "\n",
    "<a id='matrix'></a>\n",
    "\n",
    "\n",
    "Suppose we want to compute $$U^{-1}V$$\n",
    "where\n",
    "$$ \n",
    "U =\\left(\n",
    "\\begin{array}{ccc}\n",
    "1 & -6 & 0\\\\\n",
    "0 & 2 & 1\\\\\n",
    "0 & 2 & 0\\\\\n",
    "\\end{array}\n",
    "\\right)\n",
    "\\quad\n",
    "V =\\left(\n",
    "\\begin{array}{ccc}\n",
    "1  &  3 &  0\\\\\n",
    "16 & -3 &  0\\\\\n",
    "11 & -1 & -1\\\\\n",
    "\\end{array}\n",
    "\\right)\\,.\n",
    "$$\n",
    "\n",
    "The syntax is as follows."
   ]
  },
  {
   "cell_type": "code",
   "execution_count": null,
   "metadata": {},
   "outputs": [],
   "source": [
    "import numpy as np # REMEMBER TO INCLUDE THIS LINE!\n",
    "\n",
    "U = np.matrix([\n",
    "    [1,-6,0],\n",
    "    [0, 2,1],\n",
    "    [0, 2,0],\n",
    "]\n",
    ")\n",
    "\n",
    "V = np.matrix([\n",
    "    [ 0, 3, 0],\n",
    "    [16,-3, 0],\n",
    "    [11,-1,-1],\n",
    "]\n",
    ")\n",
    "\n",
    "M = np.linalg.inv(U)*V\n",
    "print(M)"
   ]
  },
  {
   "cell_type": "markdown",
   "metadata": {},
   "source": [
    "---"
   ]
  },
  {
   "cell_type": "markdown",
   "metadata": {},
   "source": [
    "<a id='help'></a>\n",
    "**Using iPython Notebooks**. When you click to the left of this box, you will notice that this box is highlighted by a slighly larger box. This is a *cell*. \n",
    "\n",
    "There are three types of cells in a notebook.\n",
    "\n",
    "1. Markdown.\n",
    "2. Code.\n",
    "3. Raw.\n",
    "\n",
    "You can change the type of cell by going to *Cell* on the tool bar.\n",
    "\n",
    "You can *evaluate* cells by hitting **Shift+Enter**. Depending on the type of cells, you will have different outputs."
   ]
  },
  {
   "cell_type": "markdown",
   "metadata": {},
   "source": [
    "---\n",
    "\n",
    "This is a **markdown** cell. Markdown is a lightweight markup language is similar to *html* with significantly less functionalities. However, the syntax is much simpler. You can find a [Markdown Cheatsheet here](https://github.com/adam-p/markdown-here/wiki/Markdown-Cheatsheet).\n",
    "\n",
    "---"
   ]
  },
  {
   "cell_type": "code",
   "execution_count": null,
   "metadata": {},
   "outputs": [],
   "source": [
    "# This is a CODE cell.\n",
    "# After you hit Shift+Enter, it evaluates the cell in Python.\n",
    "# Take note that in Python, to comment lines, you use the symbol #\n",
    "\n",
    "print(\"Hello World!\")"
   ]
  },
  {
   "cell_type": "raw",
   "metadata": {},
   "source": [
    "----\n",
    "\n",
    "This is a *raw* cell. Nothing happens when you hit Shift+Enter.\n",
    "\n",
    "----"
   ]
  },
  {
   "cell_type": "markdown",
   "metadata": {},
   "source": [
    "**Answering Questions**. You may choose to use *raw* or *markdown* cells to answer the questions. Of course, if the answer requires you to run a routine in Python, please use a *code* cell.\n"
   ]
  },
  {
   "cell_type": "code",
   "execution_count": null,
   "metadata": {
    "collapsed": true
   },
   "outputs": [],
   "source": []
  }
 ],
 "metadata": {
  "kernelspec": {
   "display_name": "Python 3",
   "language": "python",
   "name": "python3"
  },
  "language_info": {
   "codemirror_mode": {
    "name": "ipython",
    "version": 3
   },
   "file_extension": ".py",
   "mimetype": "text/x-python",
   "name": "python",
   "nbconvert_exporter": "python",
   "pygments_lexer": "ipython3",
   "version": "3.7.3"
  }
 },
 "nbformat": 4,
 "nbformat_minor": 2
}
