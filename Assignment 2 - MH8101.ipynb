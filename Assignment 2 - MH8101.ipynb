{
 "cells": [
  {
   "cell_type": "markdown",
   "metadata": {},
   "source": [
    "**Preamble**\n",
    "\n",
    "**Colloboration Policy**. The student is to *explicitly identify* his/her collaborators in the assignment. If the student did not work with anyone, he/she should indicate `Collaborators=['none']`. If the student obtains a solution through research (e.g., on the web), acknowledge the source, but *write up the solution in HIS/HER OWN WORDS*. There will be a one mark penalty if a student fails to indicate his/her collaborators.\n",
    "\n",
    "**There will be NO EXCEPTIONS to this grading policy.**"
   ]
  },
  {
   "cell_type": "raw",
   "metadata": {},
   "source": [
    "Name = 'CHANGETHIS'\n",
    "Collaborators = 'CHANGETHIS'"
   ]
  },
  {
   "cell_type": "markdown",
   "metadata": {},
   "source": [
    "# Assignment 2 - Sensitivity Analysis\n",
    "\n",
    "If you need help on using Jupyter notebooks, click <a href='#help'>here</a>. \n",
    "\n",
    "Objective:\n",
    "\n",
    "In this exercise, we perform *sensity analysis* to a specific linear program (LP). \n",
    "That is, we analyse the effect of changing parameters on the optimal solution and optimal value.\n",
    "Specifically, we will look at the following scenarios:\n",
    "\n",
    "(a) Change in *objective function* for the coefficient of a *nonbasic* variable.\n",
    "\n",
    "(b) Change in *objective function* for the coefficient of a *basic* variable.\n",
    "\n",
    "(c) Change in a *RHS* value.\n",
    "\n",
    "(d) Adding a new *variable*.\n",
    "\n",
    "(e) Adding a new *constraint*.\n"
   ]
  },
  {
   "cell_type": "markdown",
   "metadata": {},
   "source": [
    "\n",
    "# Linear Program LP1\n",
    "\n",
    "For this assignment, **LP1** refers to the following linear program:\n",
    "\n",
    "$$\n",
    "\\begin{array}{crcrcrcrl}\n",
    "\\max &   &   & x_2 & - & x_3 & + & x_4\\\\ \n",
    "\\text{subject to} \n",
    "& x_1 & - &  x_2 & - & 3x_3 & + &  x_4 & \\le 7\\\\ \n",
    "&3x_1 & + &  x_2 & + &  x_3 & + & 2x_4 & \\le 2\\\\ \n",
    "&6x_1 & + & 2x_2 & + & 3x_3 & - &  x_4 & \\le 1\\\\ \n",
    "\\end{array}\n",
    "$$\n",
    "\n",
    "Note that when we refer to **LP1**. It refers to above problem with **no other modifications**."
   ]
  },
  {
   "cell_type": "code",
   "execution_count": 35,
   "metadata": {},
   "outputs": [
    {
     "name": "stdout",
     "output_type": "stream",
     "text": [
      "LP1:\n",
      "MAXIMIZE\n",
      "1*x2 + -1*x3 + 1*x4 + 0\n",
      "SUBJECT TO\n",
      "constraint1: x1 - x2 - 3 x3 + x4 <= 7\n",
      "\n",
      "constraint2: 3 x1 + x2 + x3 + 2 x4 <= 2\n",
      "\n",
      "constraint3: 6 x1 + 2 x2 + 3 x3 - x4 <= 1\n",
      "\n",
      "VARIABLES\n",
      "x1 Continuous\n",
      "x2 Continuous\n",
      "x3 Continuous\n",
      "x4 Continuous\n",
      "\n",
      "Z  : 1.4\n",
      "x1 : 0.0\n",
      "x2 : 0.8\n",
      "x3 : 0.0\n",
      "x4 : 0.6\n"
     ]
    }
   ],
   "source": [
    "# WE COMPUTE THE SOLUTION FOR LP1 HERE\n",
    "\n",
    "import pulp\n",
    "\n",
    "model = pulp.LpProblem(\"LP1\", pulp.LpMaximize)\n",
    "\n",
    "x1 = pulp.LpVariable('x1', lowBound=0)\n",
    "x2 = pulp.LpVariable('x2', lowBound=0)\n",
    "x3 = pulp.LpVariable('x3', lowBound=0)\n",
    "x4 = pulp.LpVariable('x4', lowBound=0)\n",
    "\n",
    "model += x2-x3+x4, \"Z\"\n",
    "\n",
    "\n",
    "model +=   x1 -   x2 - 3*x3 +   x4  <=  7,           \"constraint1\"\n",
    "model += 3*x1 +   x2 +   x3  + 2*x4 <=  2,           \"constraint2\"\n",
    "model += 6*x1 + 2*x2 + 3*x3 -   x4  <=  1,           \"constraint3\"\n",
    "\n",
    "print(model)\n",
    "\n",
    "model.solve()\n",
    "\n",
    "print(\"Z  : {}\".format(pulp.value(model.objective)))\n",
    "\n",
    "print(\"x1 : {}\".format(x1.varValue))\n",
    "print(\"x2 : {}\".format(x2.varValue))\n",
    "print(\"x3 : {}\".format(x3.varValue))\n",
    "print(\"x4 : {}\".format(x4.varValue))\n"
   ]
  },
  {
   "cell_type": "markdown",
   "metadata": {},
   "source": [
    "**(0) (5 marks)** Fill in the entries for the *optimal* simplex table.\n",
    "Show your working. However, feel free to use `numpy` to do the computations (click <a href='#matrix'>here</a> for simple `numpy` matrix operations).\n",
    "\n",
    "Do take note of the order of the decision variables."
   ]
  },
  {
   "cell_type": "markdown",
   "metadata": {},
   "source": [
    "---\n",
    "\n",
    "*You may use this cell for working.*"
   ]
  },
  {
   "cell_type": "code",
   "execution_count": 3,
   "metadata": {
    "collapsed": true
   },
   "outputs": [],
   "source": [
    "# You may need to use python for some computations\n",
    "\n",
    "\n",
    "import pulp\n"
   ]
  },
  {
   "cell_type": "markdown",
   "metadata": {},
   "source": [
    "*You may use this cell for working.*"
   ]
  },
  {
   "cell_type": "code",
   "execution_count": 4,
   "metadata": {
    "collapsed": true
   },
   "outputs": [],
   "source": [
    "# Using NUMPY for calculations...\n",
    "\n",
    "import numpy as np \n"
   ]
  },
  {
   "cell_type": "markdown",
   "metadata": {},
   "source": [
    "---\n",
    "\n",
    "**Answer - Optimal Simplex Table**. Fill in the blanks.\n",
    "\n",
    "| $Z$ | $x_2$ | $x_4$ | $u_1$ | $x_1$ | $x_3$ | $u_2$ | $u_3$ | RHS |\n",
    "| :-: | :---: | :---: | :---: | :---: | :---: | :---: | :---: |:---:|\n",
    "| ??? |   ??? |   ??? |   ??? |   ??? |   ??? |   ??? |   ??? | ??? |\n",
    "| ??? |   ??? |   ??? |   ??? |   ??? |   ??? |   ??? |   ??? | ??? |\n",
    "| ??? |   ??? |   ??? |   ??? |   ??? |   ??? |   ??? |   ??? | ??? |\n",
    "| ??? |   ??? |   ??? |   ??? |   ??? |   ??? |   ??? |   ??? | ??? |\n",
    "| ??? |   ??? |   ??? |   ??? |   ??? |   ??? |   ??? |   ??? | ??? |\n",
    "\n",
    "---"
   ]
  },
  {
   "cell_type": "markdown",
   "metadata": {},
   "source": [
    "**(a) (2 marks)**  Consider a new objective function \n",
    "$$ c_1x_1 +x_2-x_3+x_4.$$\n",
    "\n",
    "For what values of $c_1$, will the optimal value remain at $1.4$?\n"
   ]
  },
  {
   "cell_type": "markdown",
   "metadata": {},
   "source": [
    "---\n",
    "**Write your answer to (a) here.**\n",
    "\n",
    "\n",
    "---"
   ]
  },
  {
   "cell_type": "markdown",
   "metadata": {},
   "source": [
    "**(b) (2 marks)**  Consider a new objective function \n",
    "$$c_2x_2-x_3+x_4.$$\n",
    "\n",
    "For what values of $c_2$, will the optimal basis remain unchanged?"
   ]
  },
  {
   "cell_type": "markdown",
   "metadata": {},
   "source": [
    "---\n",
    "\n",
    "**Write your answer to (b) here.**\n",
    "\n",
    "\n",
    "---"
   ]
  },
  {
   "cell_type": "markdown",
   "metadata": {},
   "source": [
    "**(c) (2 marks)**  Suppose we modify `\"constraint 1\"` to  \n",
    "$$ x_1 - x_2 - 3x_3 + x_4 \\le b_1.$$\n",
    "\n",
    "For what values of $c_5$, will the optimal basis remain unchanged?"
   ]
  },
  {
   "cell_type": "markdown",
   "metadata": {},
   "source": [
    "---\n",
    "\n",
    "**Write your answer to (c) here.**\n",
    "\n",
    "\n",
    "---"
   ]
  },
  {
   "cell_type": "markdown",
   "metadata": {},
   "source": [
    "**(d) (2 marks)** Suppose we add a new variable to **LP1** and the new linear program is:\n",
    "\n",
    "$$\n",
    "\\begin{array}{crcrcrcrcrl}\n",
    "\\max &   &   & x_2 & - & x_3 & + & x_4 & + &c_5x_5\\\\ \n",
    "\\text{subject to} \n",
    "& x_1 & - &  x_2 & - & 3x_3 & + &  x_4 & + & x_5 & \\le 7\\\\ \n",
    "&3x_1 & + &  x_2 & + &  x_3 & + & 2x_4 & + & x_5 & \\le 2\\\\ \n",
    "&6x_1 & + & 2x_2 & + & 3x_3 & - &  x_4 & + & x_5 & \\le 1\\\\ \n",
    "\\end{array}\n",
    "$$\n",
    "For what values of $c_5$, will the optimal value remain unchanged?\n"
   ]
  },
  {
   "cell_type": "markdown",
   "metadata": {},
   "source": [
    "---\n",
    "\n",
    "**Write your answer to (d) here.**\n",
    "\n",
    "\n",
    "---\n"
   ]
  },
  {
   "cell_type": "markdown",
   "metadata": {},
   "source": [
    "**(e) (2 marks)** Suppose we add a new constraint to **LP1** and the new constraint is:\n",
    "\n",
    "$$\n",
    "x_1+x_2+x_3+x_4\\le b_4\n",
    "$$\n",
    "For what values of $b_4$, will the optimal solution remain unchanged?"
   ]
  },
  {
   "cell_type": "markdown",
   "metadata": {},
   "source": [
    "---\n",
    "\n",
    "**Write your answer to (e) here.**\n",
    "\n",
    "\n",
    "---"
   ]
  },
  {
   "cell_type": "markdown",
   "metadata": {},
   "source": [
    "---\n",
    "\n",
    "### Appendix\n",
    "\n",
    "---"
   ]
  },
  {
   "cell_type": "markdown",
   "metadata": {},
   "source": [
    "### Using `numpy` for matrix operations\n",
    "\n",
    "<a id='matrix'></a>\n",
    "\n",
    "\n",
    "Suppose we want to compute $$U^{-1}V$$\n",
    "where\n",
    "$$ \n",
    "U =\\left(\n",
    "\\begin{array}{ccc}\n",
    "1 & -6 & 0\\\\\n",
    "0 & 2 & 1\\\\\n",
    "0 & 2 & 0\\\\\n",
    "\\end{array}\n",
    "\\right)\n",
    "\\quad\n",
    "V =\\left(\n",
    "\\begin{array}{ccc}\n",
    "1  &  3 &  0\\\\\n",
    "16 & -3 &  0\\\\\n",
    "11 & -1 & -1\\\\\n",
    "\\end{array}\n",
    "\\right)\\,.\n",
    "$$\n",
    "\n",
    "The syntax is as follows."
   ]
  },
  {
   "cell_type": "code",
   "execution_count": 3,
   "metadata": {},
   "outputs": [
    {
     "name": "stdout",
     "output_type": "stream",
     "text": [
      "[[ 33.    0.   -3. ]\n",
      " [  5.5  -0.5  -0.5]\n",
      " [  5.   -2.    1. ]]\n"
     ]
    }
   ],
   "source": [
    "import numpy as np # REMEMBER TO INCLUDE THIS LINE!\n",
    "\n",
    "U = np.matrix([\n",
    "    [1,-6,0],\n",
    "    [0, 2,1],\n",
    "    [0, 2,0],\n",
    "]\n",
    ")\n",
    "\n",
    "V = np.matrix([\n",
    "    [ 0, 3, 0],\n",
    "    [16,-3, 0],\n",
    "    [11,-1,-1],\n",
    "]\n",
    ")\n",
    "\n",
    "M = np.linalg.inv(U)*V\n",
    "print(M)"
   ]
  },
  {
   "cell_type": "markdown",
   "metadata": {},
   "source": [
    "---"
   ]
  },
  {
   "cell_type": "markdown",
   "metadata": {},
   "source": [
    "<a id='help'></a>\n",
    "**Using iPython Notebooks**. When you click to the left of this box, you will notice that this box is highlighted by a slighly larger box. This is a *cell*. \n",
    "\n",
    "There are three types of cells in a notebook.\n",
    "\n",
    "1. Markdown.\n",
    "2. Code.\n",
    "3. Raw.\n",
    "\n",
    "You can change the type of cell by going to *Cell* on the tool bar.\n",
    "\n",
    "You can *evaluate* cells by hitting **Shift+Enter**. Depending on the type of cells, you will have different outputs."
   ]
  },
  {
   "cell_type": "markdown",
   "metadata": {},
   "source": [
    "---\n",
    "\n",
    "This is a **markdown** cell. Markdown is a lightweight markup language is similar to *html* with significantly less functionalities. However, the syntax is much simpler. You can find a [Markdown Cheatsheet here](https://github.com/adam-p/markdown-here/wiki/Markdown-Cheatsheet).\n",
    "\n",
    "---"
   ]
  },
  {
   "cell_type": "code",
   "execution_count": 1,
   "metadata": {},
   "outputs": [
    {
     "name": "stdout",
     "output_type": "stream",
     "text": [
      "Hello World!\n"
     ]
    }
   ],
   "source": [
    "# This is a CODE cell.\n",
    "# After you hit Shift+Enter, it evaluates the cell in Python.\n",
    "# Take note that in Python, to comment lines, you use the symbol #\n",
    "\n",
    "print(\"Hello World!\")"
   ]
  },
  {
   "cell_type": "raw",
   "metadata": {},
   "source": [
    "----\n",
    "\n",
    "This is a *raw* cell. Nothing happens when you hit Shift+Enter.\n",
    "\n",
    "----"
   ]
  },
  {
   "cell_type": "markdown",
   "metadata": {},
   "source": [
    "**Answering Questions**. You may choose to use *raw* or *markdown* cells to answer the questions. Of course, if the answer requires you to run a routine in Python, please use a *code* cell.\n"
   ]
  },
  {
   "cell_type": "code",
   "execution_count": null,
   "metadata": {
    "collapsed": true
   },
   "outputs": [],
   "source": []
  }
 ],
 "metadata": {
  "kernelspec": {
   "display_name": "Python 3",
   "language": "python",
   "name": "python3"
  },
  "language_info": {
   "codemirror_mode": {
    "name": "ipython",
    "version": 3
   },
   "file_extension": ".py",
   "mimetype": "text/x-python",
   "name": "python",
   "nbconvert_exporter": "python",
   "pygments_lexer": "ipython3",
   "version": "3.6.3"
  }
 },
 "nbformat": 4,
 "nbformat_minor": 2
}
