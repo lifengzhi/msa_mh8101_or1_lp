{
 "cells": [
  {
   "cell_type": "markdown",
   "metadata": {},
   "source": [
    "# My Titanic Notebook / First Kaggle Project\n",
    "\n",
    "This is my first Kaggle project, and my goal here is simply to learn the different phases of problem-solving when tackling a Data Science/ML question. Let's go through this step by step (this is openly inspired by the Notebooks available in the [Titanic Kaggle Tutorial](https://www.kaggle.com/c/titanic/overview/tutorials)):\n",
    "\n",
    "\n",
    "## Context & Question\n",
    "\n",
    "> On April 15, 1912, during her maiden voyage, the Titanic sank after colliding with an iceberg, killing 1502 out of 2224 passengers and crew. \n",
    "\n",
    "That's a **32% survival rate**.\n",
    "\n",
    "> One of the reasons that the shipwreck led to such loss of life was that there were not enough lifeboats for the passengers and crew. Although there was some element of luck involved in surviving the sinking, some groups of people were more likely to survive than others, such as women, children, and the upper-class. \n",
    "\n",
    "This means we could somehow **design an algorithm to predict survival based on the passenger's features** (gender, age, class, etc.). Let's see...\n",
    "\n",
    "\n",
    "## What is the available data? What does it look like?\n",
    "\n",
    "> First let's load all of our data analysis/ML libraries just in case we need anything in there (we will):\n",
    "\n",
    "## focus of the projects #\n",
    "> data preprocessing (follow the python tutorial)\n",
    "\n",
    "> try different models as many as possible\n",
    "\n",
    "> give the context why we choose that one\n",
    "\n",
    "> try all feature selection, pca, etc\n",
    "\n",
    "> analyze and focus on insight and findings\n",
    "\n",
    "## focus of Monday meeting:\n",
    "> planning \n",
    "\n",
    "•Problem Statement\n",
    "\n",
    "•Data Description\n",
    "\n",
    "•Methodology and Implementation\n",
    "\n",
    "•Experimental Results\n",
    "–Comparison\n",
    "–Analysis and discussions\n",
    "–Interesting findings\n",
    "\n",
    "•Conclusions\n",
    "–Summary of project achievements and findings\n",
    "–Future Directions for improvements\n",
    "\n",
    "\n",
    "•Interestingness of your problem statement (20%)\n",
    "\n",
    "•Richness of the insights and findings that you have gained (30%)\n",
    "\n",
    "•Clarity of your presentation (20%)\n",
    "\n",
    "•Technical depth, novelty and comparison (30%)"
   ]
  },
  {
   "cell_type": "code",
   "execution_count": 1,
   "metadata": {},
   "outputs": [
    {
     "data": {
      "text/html": [
       "2"
      ],
      "text/latex": [
       "2"
      ],
      "text/markdown": [
       "2"
      ],
      "text/plain": [
       "[1] 2"
      ]
     },
     "metadata": {},
     "output_type": "display_data"
    }
   ],
   "source": [
    "1+1"
   ]
  },
  {
   "cell_type": "code",
   "execution_count": 2,
   "metadata": {},
   "outputs": [],
   "source": [
    "library()"
   ]
  },
  {
   "cell_type": "code",
   "execution_count": 3,
   "metadata": {},
   "outputs": [
    {
     "name": "stderr",
     "output_type": "stream",
     "text": [
      "Registered S3 methods overwritten by 'ggplot2':\n",
      "  method         from \n",
      "  [.quosures     rlang\n",
      "  c.quosures     rlang\n",
      "  print.quosures rlang\n"
     ]
    }
   ],
   "source": [
    "library(ggplot2)"
   ]
  },
  {
   "cell_type": "code",
   "execution_count": null,
   "metadata": {},
   "outputs": [],
   "source": [
    "library(SwarmSVM)"
   ]
  },
  {
   "cell_type": "code",
   "execution_count": 5,
   "metadata": {},
   "outputs": [
    {
     "name": "stderr",
     "output_type": "stream",
     "text": [
      "Updating HTML index of packages in '.Library'\n",
      "Making 'packages.html' ... done\n"
     ]
    }
   ],
   "source": [
    "install.packages(\"ggplot2\")"
   ]
  },
  {
   "cell_type": "code",
   "execution_count": null,
   "metadata": {},
   "outputs": [
    {
     "name": "stderr",
     "output_type": "stream",
     "text": [
      "also installing the dependencies ‘e1071’, ‘LiblineaR’, ‘SparseM’, ‘kernlab’, ‘checkmate’, ‘BBmisc’\n",
      "\n"
     ]
    }
   ],
   "source": [
    "install.packages(\"SwarmSVM\")"
   ]
  },
  {
   "cell_type": "code",
   "execution_count": 9,
   "metadata": {},
   "outputs": [
    {
     "data": {
      "text/html": [
       "'numeric'"
      ],
      "text/latex": [
       "'numeric'"
      ],
      "text/markdown": [
       "'numeric'"
      ],
      "text/plain": [
       "[1] \"numeric\""
      ]
     },
     "metadata": {},
     "output_type": "display_data"
    }
   ],
   "source": [
    "k = 1\n",
    "class(k)"
   ]
  },
  {
   "cell_type": "code",
   "execution_count": 10,
   "metadata": {},
   "outputs": [
    {
     "data": {
      "text/html": [
       "<ol class=list-inline>\n",
       "\t<li>-1.1471998773992</li>\n",
       "\t<li>0.495017281317541</li>\n",
       "\t<li>0.749594133574962</li>\n",
       "\t<li>-0.591012392660744</li>\n",
       "\t<li>-0.731733545566168</li>\n",
       "\t<li>0.697232915112299</li>\n",
       "\t<li>-1.17942555410056</li>\n",
       "\t<li>1.01534688145551</li>\n",
       "\t<li>0.0697040723210809</li>\n",
       "\t<li>-1.18781026762928</li>\n",
       "</ol>\n"
      ],
      "text/latex": [
       "\\begin{enumerate*}\n",
       "\\item -1.1471998773992\n",
       "\\item 0.495017281317541\n",
       "\\item 0.749594133574962\n",
       "\\item -0.591012392660744\n",
       "\\item -0.731733545566168\n",
       "\\item 0.697232915112299\n",
       "\\item -1.17942555410056\n",
       "\\item 1.01534688145551\n",
       "\\item 0.0697040723210809\n",
       "\\item -1.18781026762928\n",
       "\\end{enumerate*}\n"
      ],
      "text/markdown": [
       "1. -1.1471998773992\n",
       "2. 0.495017281317541\n",
       "3. 0.749594133574962\n",
       "4. -0.591012392660744\n",
       "5. -0.731733545566168\n",
       "6. 0.697232915112299\n",
       "7. -1.17942555410056\n",
       "8. 1.01534688145551\n",
       "9. 0.0697040723210809\n",
       "10. -1.18781026762928\n",
       "\n",
       "\n"
      ],
      "text/plain": [
       " [1] -1.14719988  0.49501728  0.74959413 -0.59101239 -0.73173355  0.69723292\n",
       " [7] -1.17942555  1.01534688  0.06970407 -1.18781027"
      ]
     },
     "metadata": {},
     "output_type": "display_data"
    }
   ],
   "source": [
    "rnorm(10)"
   ]
  },
  {
   "cell_type": "code",
   "execution_count": null,
   "metadata": {},
   "outputs": [
    {
     "data": {
      "text/html": [
       "0.172753262161426"
      ],
      "text/latex": [
       "0.172753262161426"
      ],
      "text/markdown": [
       "0.172753262161426"
      ],
      "text/plain": [
       "[1] 0.1727533"
      ]
     },
     "metadata": {},
     "output_type": "display_data"
    },
    {
     "name": "stderr",
     "output_type": "stream",
     "text": [
      "Updating HTML index of packages in '.Library'\n",
      "Making 'packages.html' ... done\n",
      "also installing the dependencies ‘minqa’, ‘nloptr’, ‘RcppEigen’, ‘ucminf’, ‘lme4’, ‘ordinal’, ‘pan’, ‘jomo’, ‘mitml’\n",
      "\n"
     ]
    }
   ],
   "source": [
    "v1 = rnorm(10)\n",
    "v2 = rnorm(10)\n",
    "cor(v1, v2)\n",
    "install.packages(\"ggthemes\")\n",
    "install.packages(\"mice\")\n"
   ]
  },
  {
   "cell_type": "code",
   "execution_count": null,
   "metadata": {},
   "outputs": [],
   "source": [
    "train <- read.csv('../input/train.csv', stringsAsFactors = F)\n",
    "test  <- read.csv('../input/test.csv', stringsAsFactors = F)"
   ]
  },
  {
   "cell_type": "code",
   "execution_count": null,
   "metadata": {},
   "outputs": [],
   "source": [
    "# Load packages\n",
    "library('ggplot2') # visualization\n",
    "library('ggthemes') # visualization\n",
    "library('scales') # visualization\n",
    "library('dplyr') # data manipulation\n",
    "library('mice') # imputation\n",
    "library('randomForest') # classification algorithm\n",
    "\n",
    "\n",
    "\n",
    "train <- read.csv('../input/train.csv', stringsAsFactors = F)\n",
    "test  <- read.csv('../input/test.csv', stringsAsFactors = F)\n",
    "\n",
    "full  <- bind_rows(train, test) # bind training & test data\n",
    "\n",
    "# check data\n",
    "str(full)\n",
    "\n",
    "\n",
    "\n",
    "\n",
    "# Grab title from passenger names\n",
    "full$Title <- gsub('(.*, )|(\\\\..*)', '', full$Name)\n",
    "\n",
    "# Show title counts by sex\n",
    "table(full$Sex, full$Title)\n",
    "\n",
    "\n",
    "\n",
    "\n",
    "\n",
    "\n",
    "# Titles with very low cell counts to be combined to \"rare\" level\n",
    "rare_title <- c('Dona', 'Lady', 'the Countess','Capt', 'Col', 'Don', \n",
    "                'Dr', 'Major', 'Rev', 'Sir', 'Jonkheer')\n",
    "\n",
    "# Also reassign mlle, ms, and mme accordingly\n",
    "full$Title[full$Title == 'Mlle']        <- 'Miss' \n",
    "full$Title[full$Title == 'Ms']          <- 'Miss'\n",
    "full$Title[full$Title == 'Mme']         <- 'Mrs' \n",
    "full$Title[full$Title %in% rare_title]  <- 'Rare Title'\n",
    "\n",
    "# Show title counts by sex again\n",
    "table(full$Sex, full$Title)\n",
    "\n",
    "\n",
    "\n",
    "\n",
    "# Finally, grab surname from passenger name\n",
    "full$Surname <- sapply(full$Name,  \n",
    "                      function(x) strsplit(x, split = '[,.]')[[1]][1])\n",
    "                       \n",
    "cat(paste('We have <b>', nlevels(factor(full$Surname)), '</b> unique surnames. I would be interested to infer ethnicity based on surname --- another time.'))\n",
    "                       \n",
    "                       \n",
    "\n",
    "                       \n",
    "                       \n",
    "# Create a family size variable including the passenger themselves\n",
    "full$Fsize <- full$SibSp + full$Parch + 1\n",
    "\n",
    "# Create a family variable \n",
    "full$Family <- paste(full$Surname, full$Fsize, sep='_')\n",
    "\n",
    "                       \n",
    "                       \n",
    "# Use ggplot2 to visualize the relationship between family size & survival\n",
    "ggplot(full[1:891,], aes(x = Fsize, fill = factor(Survived))) +\n",
    "  geom_bar(stat='count', position='dodge') +\n",
    "  scale_x_continuous(breaks=c(1:11)) +\n",
    "  labs(x = 'Family Size') +\n",
    "  theme_few()\n",
    "                       \n",
    "                       \n",
    "# Discretize family size\n",
    "full$FsizeD[full$Fsize == 1] <- 'singleton'\n",
    "full$FsizeD[full$Fsize < 5 & full$Fsize > 1] <- 'small'\n",
    "full$FsizeD[full$Fsize > 4] <- 'large'\n",
    "\n",
    "# Show family size by survival using a mosaic plot\n",
    "mosaicplot(table(full$FsizeD, full$Survived), main='Family Size by Survival', shade=TRUE)\n",
    "                       \n",
    "# This variable appears to have a lot of missing values\n",
    "full$Cabin[1:28]\n",
    "\n",
    "# The first character is the deck. For example:\n",
    "strsplit(full$Cabin[2], NULL)[[1]]\n",
    "                       \n",
    "# Create a Deck variable. Get passenger deck A - F:\n",
    "full$Deck<-factor(sapply(full$Cabin, function(x) strsplit(x, NULL)[[1]][1]))\n",
    "                         \n",
    "                         \n",
    " # Passengers 62 and 830 are missing Embarkment\n",
    "full[c(62, 830), 'Embarked']                        "
   ]
  }
 ],
 "metadata": {
  "kernelspec": {
   "display_name": "Python 3",
   "language": "python",
   "name": "python3"
  },
  "language_info": {
   "codemirror_mode": {
    "name": "ipython",
    "version": 3
   },
   "file_extension": ".py",
   "mimetype": "text/x-python",
   "name": "python",
   "nbconvert_exporter": "python",
   "pygments_lexer": "ipython3",
   "version": "3.7.4"
  }
 },
 "nbformat": 4,
 "nbformat_minor": 2
}
