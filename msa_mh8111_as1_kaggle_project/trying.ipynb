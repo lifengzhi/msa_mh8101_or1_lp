{
 "cells": [
  {
   "cell_type": "code",
   "execution_count": null,
   "metadata": {},
   "outputs": [],
   "source": [
    "# Load packages\n",
    "library('ggplot2') \n",
    "library('ggthemes') \n",
    "library('scales') \n",
    "library('dplyr') \n",
    "library('mice') \n",
    "library('randomForest') \n",
    "\n",
    "setwd(\"~/Desktop/MSA/msa_mh8111_as1_kaggle_project/\")\n",
    "Train <- read.csv(\"train.csv\", header=TRUE,stringsAsFactors = FALSE)\n",
    "Test <- read.csv(\"test.csv\", header=TRUE, stringsAsFactors = FALSE)\n",
    "str(Train)\n",
    "1+2"
   ]
  },
  {
   "cell_type": "code",
   "execution_count": null,
   "metadata": {},
   "outputs": [],
   "source": [
    "1+1"
   ]
  },
  {
   "cell_type": "code",
   "execution_count": null,
   "metadata": {},
   "outputs": [],
   "source": []
  },
  {
   "cell_type": "code",
   "execution_count": null,
   "metadata": {},
   "outputs": [],
   "source": []
  },
  {
   "cell_type": "code",
   "execution_count": null,
   "metadata": {},
   "outputs": [],
   "source": []
  },
  {
   "cell_type": "code",
   "execution_count": null,
   "metadata": {},
   "outputs": [],
   "source": []
  },
  {
   "cell_type": "code",
   "execution_count": null,
   "metadata": {},
   "outputs": [],
   "source": []
  },
  {
   "cell_type": "code",
   "execution_count": null,
   "metadata": {},
   "outputs": [],
   "source": []
  }
 ],
 "metadata": {
  "kernelspec": {
   "display_name": "R",
   "language": "R",
   "name": "ir"
  }
 },
 "nbformat": 4,
 "nbformat_minor": 2
}
