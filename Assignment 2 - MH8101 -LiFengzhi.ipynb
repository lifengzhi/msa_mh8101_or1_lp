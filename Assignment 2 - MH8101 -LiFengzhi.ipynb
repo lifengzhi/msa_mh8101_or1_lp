{
 "cells": [
  {
   "cell_type": "markdown",
   "metadata": {},
   "source": [
    "**Preamble**\n",
    "\n",
    "**Colloboration Policy**. The student is to *explicitly identify* his/her collaborators in the assignment. If the student did not work with anyone, he/she should indicate `Collaborators=['none']`. If the student obtains a solution through research (e.g., on the web), acknowledge the source, but *write up the solution in HIS/HER OWN WORDS*. There will be a one mark penalty if a student fails to indicate his/her collaborators.\n",
    "\n",
    "**There will be NO EXCEPTIONS to this grading policy.**"
   ]
  },
  {
   "cell_type": "raw",
   "metadata": {},
   "source": [
    "Name = 'Li Fengzhi'\n",
    "Collaborators = 'none'"
   ]
  },
  {
   "cell_type": "markdown",
   "metadata": {},
   "source": [
    "# Assignment 2 - Sensitivity Analysis\n",
    "\n",
    "If you need help on using Jupyter notebooks, click <a href='#help'>here</a>. \n",
    "\n",
    "Objective:\n",
    "\n",
    "In this exercise, we perform *sensity analysis* to a specific linear program (LP). \n",
    "That is, we analyse the effect of changing parameters on the optimal solution and optimal value.\n",
    "Specifically, we will look at the following scenarios:\n",
    "\n",
    "(a) Change in *objective function* for the coefficient of a *nonbasic* variable.\n",
    "\n",
    "(b) Change in *objective function* for the coefficient of a *basic* variable.\n",
    "\n",
    "(c) Change in a *RHS* value.\n",
    "\n",
    "(d) Adding a new *variable*.\n",
    "\n",
    "(e) Adding a new *constraint*.\n"
   ]
  },
  {
   "cell_type": "markdown",
   "metadata": {},
   "source": [
    "\n",
    "# Linear Program LP1\n",
    "\n",
    "For this assignment, **LP1** refers to the following linear program:\n",
    "\n",
    "$$\n",
    "\\begin{array}{crcrcrcrl}\n",
    "\\max &   &   & x_2 & - & x_3 & + & x_4\\\\ \n",
    "\\text{subject to} \n",
    "& x_1 & - &  x_2 & - & 3x_3 & + &  x_4 & \\le 7\\\\ \n",
    "&3x_1 & + &  x_2 & + &  x_3 & + & 2x_4 & \\le 2\\\\ \n",
    "&6x_1 & + & 2x_2 & + & 3x_3 & - &  x_4 & \\le 1\\\\ \n",
    "\\end{array}\n",
    "$$\n",
    "\n",
    "Note that when we refer to **LP1**. It refers to above problem with **no other modifications**."
   ]
  },
  {
   "cell_type": "code",
   "execution_count": 1,
   "metadata": {},
   "outputs": [
    {
     "name": "stdout",
     "output_type": "stream",
     "text": [
      "LP1:\n",
      "MAXIMIZE\n",
      "1*x2 + -1*x3 + 1*x4 + 0\n",
      "SUBJECT TO\n",
      "constraint1: x1 - x2 - 3 x3 + x4 <= 7\n",
      "\n",
      "constraint2: 3 x1 + x2 + x3 + 2 x4 <= 2\n",
      "\n",
      "constraint3: 6 x1 + 2 x2 + 3 x3 - x4 <= 1\n",
      "\n",
      "VARIABLES\n",
      "x1 Continuous\n",
      "x2 Continuous\n",
      "x3 Continuous\n",
      "x4 Continuous\n",
      "\n",
      "Z  : 1.4\n",
      "x1 : 0.0\n",
      "x2 : 0.8\n",
      "x3 : 0.0\n",
      "x4 : 0.6\n"
     ]
    }
   ],
   "source": [
    "# WE COMPUTE THE SOLUTION FOR LP1 HERE\n",
    "\n",
    "import pulp\n",
    "\n",
    "model = pulp.LpProblem(\"LP1\", pulp.LpMaximize)\n",
    "\n",
    "x1 = pulp.LpVariable('x1', lowBound=0)\n",
    "x2 = pulp.LpVariable('x2', lowBound=0)\n",
    "x3 = pulp.LpVariable('x3', lowBound=0)\n",
    "x4 = pulp.LpVariable('x4', lowBound=0)\n",
    "\n",
    "model += x2-x3+x4, \"Z\"\n",
    "\n",
    "\n",
    "model +=   x1 -   x2 - 3*x3 +   x4  <=  7,           \"constraint1\"\n",
    "model += 3*x1 +   x2 +   x3  + 2*x4 <=  2,           \"constraint2\"\n",
    "model += 6*x1 + 2*x2 + 3*x3 -   x4  <=  1,           \"constraint3\"\n",
    "\n",
    "print(model)\n",
    "\n",
    "model.solve()\n",
    "\n",
    "print(\"Z  : {}\".format(pulp.value(model.objective)))\n",
    "\n",
    "print(\"x1 : {}\".format(x1.varValue))\n",
    "print(\"x2 : {}\".format(x2.varValue))\n",
    "print(\"x3 : {}\".format(x3.varValue))\n",
    "print(\"x4 : {}\".format(x4.varValue))\n"
   ]
  },
  {
   "cell_type": "markdown",
   "metadata": {},
   "source": [
    "**(0) (5 marks)** Fill in the entries for the *optimal* simplex table.\n",
    "Show your working. However, feel free to use `numpy` to do the computations (click <a href='#matrix'>here</a> for simple `numpy` matrix operations).\n",
    "\n",
    "Do take note of the order of the decision variables."
   ]
  },
  {
   "cell_type": "markdown",
   "metadata": {},
   "source": [
    "---\n",
    "\n",
    "*You may use this cell for working.*"
   ]
  },
  {
   "cell_type": "code",
   "execution_count": 14,
   "metadata": {},
   "outputs": [
    {
     "name": "stdout",
     "output_type": "stream",
     "text": [
      "LP1:\n",
      "MAXIMIZE\n",
      "1*x2 + -1*x3 + 1*x4 + 0\n",
      "SUBJECT TO\n",
      "constraint1: u1 + x1 - x2 - 3 x3 + x4 = 7\n",
      "\n",
      "constraint2: u2 + 3 x1 + x2 + x3 + 2 x4 = 2\n",
      "\n",
      "constraint3: u3 + 6 x1 + 2 x2 + 3 x3 - x4 = 1\n",
      "\n",
      "VARIABLES\n",
      "u1 Continuous\n",
      "u2 Continuous\n",
      "u3 Continuous\n",
      "x1 Continuous\n",
      "x2 Continuous\n",
      "x3 Continuous\n",
      "x4 Continuous\n",
      "\n",
      "Z  : 1.4\n",
      "x1 : 0.0\n",
      "x2 : 0.8\n",
      "x3 : 0.0\n",
      "x4 : 0.6\n",
      "u1 : 7.2\n",
      "u2 : 0.0\n",
      "u3 : 0.0\n"
     ]
    }
   ],
   "source": [
    "# build the slack model \n",
    "\n",
    "import pulp\n",
    "\n",
    "model = pulp.LpProblem(\"LP1\", pulp.LpMaximize)\n",
    "\n",
    "x1 = pulp.LpVariable('x1', lowBound=0)\n",
    "x2 = pulp.LpVariable('x2', lowBound=0)\n",
    "x3 = pulp.LpVariable('x3', lowBound=0)\n",
    "x4 = pulp.LpVariable('x4', lowBound=0)\n",
    "u1 = pulp.LpVariable('u1', lowBound=0)\n",
    "u2 = pulp.LpVariable('u2', lowBound=0)\n",
    "u3 = pulp.LpVariable('u3', lowBound=0)\n",
    "\n",
    "model += x2-x3+x4, \"Z\"\n",
    "\n",
    "\n",
    "model +=   x1 -   x2 - 3*x3 +   x4  + u1 ==  7,           \"constraint1\"\n",
    "model += 3*x1 +   x2 +   x3  + 2*x4 + u2 ==  2,           \"constraint2\"\n",
    "model += 6*x1 + 2*x2 + 3*x3 -   x4  + u3 ==  1,           \"constraint3\"\n",
    "\n",
    "print(model)\n",
    "\n",
    "model.solve()\n",
    "\n",
    "print(\"Z  : {}\".format(pulp.value(model.objective)))\n",
    "\n",
    "print(\"x1 : {}\".format(x1.varValue))\n",
    "print(\"x2 : {}\".format(x2.varValue))\n",
    "print(\"x3 : {}\".format(x3.varValue))\n",
    "print(\"x4 : {}\".format(x4.varValue))\n",
    "print(\"u1 : {}\".format(u1.varValue))\n",
    "print(\"u2 : {}\".format(u2.varValue))\n",
    "print(\"u3 : {}\".format(u3.varValue))"
   ]
  },
  {
   "cell_type": "markdown",
   "metadata": {},
   "source": [
    "*You may use this cell for working.*"
   ]
  },
  {
   "cell_type": "code",
   "execution_count": 7,
   "metadata": {},
   "outputs": [
    {
     "name": "stdout",
     "output_type": "stream",
     "text": [
      "\n",
      "===Below is for filling up the optimal table\n",
      "[[ 3.   1.4  0.2  0.4]\n",
      " [ 0.  -0.2  0.4 -0.2]\n",
      " [ 4.  -1.4 -0.2  0.6]]\n",
      "[[1. 0. 0.]\n",
      " [0. 1. 0.]\n",
      " [0. 0. 1.]]\n",
      "[[0.8]\n",
      " [0.6]\n",
      " [7.2]]\n",
      "[[3.  2.2 0.6 0.2]]\n",
      "[[1.4]]\n"
     ]
    }
   ],
   "source": [
    "#solving the matrix\n",
    "import numpy as np \n",
    "\n",
    "#suppress the decimal digits\n",
    "np.set_printoptions(precision = 2)\n",
    "\n",
    "# the BVs are x2, x4, u1\n",
    "B = np.matrix([\n",
    "    [-1,  1, 1],\n",
    "    [ 1,  2, 0],\n",
    "    [ 2, -1, 0],\n",
    "])\n",
    "\n",
    "# the NBVs are x1, x3, u2, u3\n",
    "N = np.matrix([\n",
    "    [1, -3, 0, 0],\n",
    "    [3,  1, 1, 0],\n",
    "    [6,  3, 0, 1],\n",
    "])\n",
    "\n",
    "# first row corresponding to BV, mindful there is a negative sign \n",
    "CB = np.matrix([\n",
    "    [1, 1, 0],\n",
    "])\n",
    "\n",
    "#first row corresponding to NBV, mindful there is negative sign\n",
    "CN = np.matrix([\n",
    "    [0, -1, 0, 0],\n",
    "])\n",
    "\n",
    "#RHS b\n",
    "b = np.matrix([\n",
    "    [7],\n",
    "    [2],\n",
    "    [1],\n",
    "])\n",
    "\n",
    "###############Solving the final optimal table#############\n",
    "print(\"\\n===Below is for filling up the optimal table\")\n",
    "\n",
    "#solve Inv(B) * N \n",
    "Final_N = np.linalg.inv(B)*N\n",
    "print(Final_N)\n",
    "\n",
    "#no need solve I, it's just identity matrix\n",
    "Final_I = np.linalg.inv(B)*B\n",
    "print(Final_I)\n",
    "\n",
    "#solve the Inv(B) * b \n",
    "Final_b = np.linalg.inv(B)*b\n",
    "print(Final_b)\n",
    "\n",
    "#solve the -(CN - CB * Inv(B) * N)\n",
    "Final_CN = -(CN - CB*(np.linalg.inv(B))*N)\n",
    "print(Final_CN)\n",
    "\n",
    "#solve the CB * Inv(B) * b\n",
    "Final_Z = CB*(np.linalg.inv(B))*b\n",
    "print(Final_Z)\n"
   ]
  },
  {
   "cell_type": "markdown",
   "metadata": {},
   "source": [
    "---\n",
    "\n",
    "**Answer - Optimal Simplex Table**. Fill in the blanks.\n",
    "\n",
    "| $Z$ | $x_2$ | $x_4$ | $u_1$ | $x_1$ | $x_3$ | $u_2$ | $u_3$ | RHS |\n",
    "| :-: | :---: | :---: | :---: | :---: | :---: | :---: | :---: |:---:|\n",
    "| 1   |   0   |   0   |   0   |   3   |   2.2 |   0.6 |   0.2 | 1.4 |\n",
    "| 0   |   1   |   0   |   0   |   3   |   1.4 |   0.2 |   0.4 | 0.8 |\n",
    "| 0   |   0   |   1   |   0   |   0   |  -0.2 |   0.4 |  -0.2 | 0.6 |\n",
    "| 0   |   0   |   0   |   1   |   4   |  -1.4 |  -0.2 |   0.6 | 7.2 |\n",
    "\n",
    "---"
   ]
  },
  {
   "cell_type": "markdown",
   "metadata": {},
   "source": [
    "**(a) (2 marks)**  Consider a new objective function \n",
    "$$ c_1x_1 +x_2-x_3+x_4.$$\n",
    "\n",
    "For what values of $c_1$, will the optimal value remain at $1.4$?\n"
   ]
  },
  {
   "cell_type": "code",
   "execution_count": 8,
   "metadata": {},
   "outputs": [
    {
     "name": "stdout",
     "output_type": "stream",
     "text": [
      "=========Below code is for part (a)=========\n",
      "[[0 1 0 0]]\n",
      "[[3.  1.2 0.6 0.2]]\n"
     ]
    }
   ],
   "source": [
    "print(\"=========Below code is for part (a)=========\")\n",
    "\n",
    "Negative_CN = -CN\n",
    "CB_InvB_N = CB*(np.linalg.inv(B))*N\n",
    "print(Negative_CN)\n",
    "print(CB_InvB_N)"
   ]
  },
  {
   "cell_type": "markdown",
   "metadata": {},
   "source": [
    "---\n",
    "**Answer to (a)**\n",
    "\n",
    "NOTE that x1 is NBV, from the source code above, from the code above, we have already found out the following,\n",
    "\n",
    "**-CN =** (0, 1, 0, 0)\n",
    "\n",
    "**CB * Inv(B) * N =** (3, 1.2, 0.6, 0.2)\n",
    "\n",
    "Now, given that we are changing coefficient of x1 from 0 to c1, the first row corresponding to (x1, x3, u2, u3) becomes (3-c1, 2.2, 0.6, 0.2), in order for optimal value to remain at 1.4, \n",
    "\n",
    "**-CN + CB * Inv(B) * N = (3-c1, 2.2, 0.6, 0.2)**\n",
    "\n",
    "3 -c1 >= 0 \n",
    "\n",
    "**Hence, the answer is c1 <= 3**\n",
    "\n",
    "---"
   ]
  },
  {
   "cell_type": "markdown",
   "metadata": {},
   "source": [
    "**(b) (2 marks)**  Consider a new objective function \n",
    "$$c_2x_2-x_3+x_4.$$\n",
    "\n",
    "For what values of $c_2$, will the optimal basis remain unchanged?"
   ]
  },
  {
   "cell_type": "code",
   "execution_count": 9,
   "metadata": {},
   "outputs": [
    {
     "name": "stdout",
     "output_type": "stream",
     "text": [
      "=========Below code is for part (b)=========\n",
      "[[0 1 0 0]]\n",
      "[[1 1 0]]\n",
      "[[ 3.   1.4  0.2  0.4]\n",
      " [ 0.  -0.2  0.4 -0.2]\n",
      " [ 4.  -1.4 -0.2  0.6]]\n"
     ]
    }
   ],
   "source": [
    "print(\"=========Below code is for part (b)=========\")\n",
    "\n",
    "InvB_N = np.linalg.inv(B)*N\n",
    "print(Negative_CN)\n",
    "print(CB)\n",
    "print(InvB_N)"
   ]
  },
  {
   "cell_type": "markdown",
   "metadata": {},
   "source": [
    "---\n",
    "\n",
    "**Answer to (b)**\n",
    "\n",
    "Note that x2 is BV, from the source code above, we have already found out the following\n",
    "\n",
    "**-CN =** [0 1 0 0]\n",
    "\n",
    "**Inv(B) * N =**\n",
    "\n",
    "[ 3.   1.4  0.2  0.4]\n",
    "\n",
    " [ 0.  -0.2  0.4 -0.2]\n",
    "\n",
    "[ 4.  -1.4  -0.2  0.6]\n",
    "\n",
    "**CB =** [1 1 0]\n",
    "\n",
    "Now, given that we are changing coefficient of x2 from 1 to c2, CB is now (c2, 1, 0).\n",
    "\n",
    "**-CN + CB * Inv(B) * N = (3c2, 1.4c2 + 0.8, 0.2c2 + 0.4, 0.4c2 - 0.2)**\n",
    "\n",
    "The first row corresponding to (x1, x3, u2, u3) becomes (3c2, 1.4c2 + 0.8, 0.2c2 + 0.4, 0.4c2 - 0.2), in order for optimal basis remain unchanged,\n",
    "\n",
    "3c2 >= 0 (c2 >=0)\n",
    "\n",
    "1.4c2 + 0.8 >= 0 (c2 >= -4/7)\n",
    "\n",
    "0.2c2 + 0.4 >= 0 (c2 >= -2)\n",
    "\n",
    "0.4c2 - 0.2 >= 0 (c2 >= 0.5)\n",
    "\n",
    "**Hence, the answer is c2 >= 0.5** \n",
    "\n",
    "\n",
    "\n",
    "---"
   ]
  },
  {
   "cell_type": "markdown",
   "metadata": {},
   "source": [
    "**(c) (2 marks)**  Suppose we modify `\"constraint 1\"` to  \n",
    "$$ x_1 - x_2 - 3x_3 + x_4 \\le b_1.$$\n",
    "\n",
    "For what values of $b_1$, will the optimal basis remain unchanged?"
   ]
  },
  {
   "cell_type": "code",
   "execution_count": 11,
   "metadata": {},
   "outputs": [
    {
     "name": "stdout",
     "output_type": "stream",
     "text": [
      "=========Below code is for part (c)=========\n",
      "[[ 0.   0.2  0.4]\n",
      " [ 0.   0.4 -0.2]\n",
      " [ 1.  -0.2  0.6]]\n",
      "[[7]\n",
      " [2]\n",
      " [1]]\n"
     ]
    }
   ],
   "source": [
    "print(\"=========Below code is for part (c)=========\")\n",
    "InvB = np.linalg.inv(B)\n",
    "print(InvB)\n",
    "print(b)"
   ]
  },
  {
   "cell_type": "markdown",
   "metadata": {},
   "source": [
    "---\n",
    "\n",
    "**Answer to (c)**\n",
    "\n",
    "Note that b1 is RHS, from the source code above, we have already found out the following\n",
    "\n",
    "**Inv(B) =**\n",
    "\n",
    "[ 0.   0.2  0.4]\n",
    "\n",
    "[ 0.   0.4 -0.2]\n",
    "\n",
    "[ 1.  -0.2  0.6]\n",
    "\n",
    "**b =**\n",
    "\n",
    "[7]\n",
    "\n",
    "[2]\n",
    "\n",
    "[1]\n",
    "\n",
    "\n",
    "Now, given that we are changing RHS from (7, 2, 1) to (b1, 2, 1), the new Inv(B) * b becomes\n",
    "\n",
    "**Inv(B) * b =**  \n",
    "\n",
    "[0.8]\n",
    "\n",
    "[0.6]\n",
    "\n",
    "[b1 + 0.2]\n",
    "\n",
    "\n",
    "In order for optimail basis to remain unchanged, the following constraints must be satisfied, \n",
    "\n",
    "[0.8] >= 0\n",
    "\n",
    "[0.6] >= 0 \n",
    "\n",
    "[b1 + 0.2] >= 0\n",
    "\n",
    "**Hence, the answer is b1 >= -0.2**\n",
    "\n",
    "\n",
    "\n",
    "\n",
    "---"
   ]
  },
  {
   "cell_type": "markdown",
   "metadata": {},
   "source": [
    "**(d) (2 marks)** Suppose we add a new variable to **LP1** and the new linear program is:\n",
    "\n",
    "$$\n",
    "\\begin{array}{crcrcrcrcrl}\n",
    "\\max &   &   & x_2 & - & x_3 & + & x_4 & + &c_5x_5\\\\ \n",
    "\\text{subject to} \n",
    "& x_1 & - &  x_2 & - & 3x_3 & + &  x_4 & + & x_5 & \\le 7\\\\ \n",
    "&3x_1 & + &  x_2 & + &  x_3 & + & 2x_4 & + & x_5 & \\le 2\\\\ \n",
    "&6x_1 & + & 2x_2 & + & 3x_3 & - &  x_4 & + & x_5 & \\le 1\\\\ \n",
    "\\end{array}\n",
    "$$\n",
    "For what values of $c_5$, will the optimal value remain unchanged?\n"
   ]
  },
  {
   "cell_type": "code",
   "execution_count": 6,
   "metadata": {},
   "outputs": [
    {
     "name": "stdout",
     "output_type": "stream",
     "text": [
      "=========Below code is for part (c)=========\n",
      "[[0 1 0 0]]\n",
      "[[ 1 -3  0  0  1]\n",
      " [ 3  1  1  0  1]\n",
      " [ 6  3  0  1  1]]\n",
      "[[3.  1.2 0.6 0.2 0.8]]\n"
     ]
    }
   ],
   "source": [
    "print(\"=========Below code is for part (c)=========\")\n",
    "print(Negative_CN)\n",
    "\n",
    "N_x5 = np.matrix([\n",
    "    [1],\n",
    "    [1],\n",
    "    [1],\n",
    "])\n",
    "#appending the last column of x5 to N\n",
    "NewN = np.c_[N, N_x5]\n",
    "CB_InvB_NewN = CB*(np.linalg.inv(B))*NewN\n",
    "print(NewN)\n",
    "print(CB_InvB_NewN)"
   ]
  },
  {
   "cell_type": "markdown",
   "metadata": {},
   "source": [
    "---\n",
    "\n",
    "**Answer to (d)**\n",
    "\n",
    "Note that by adding a new variable x5, the N and CN item will be impacted (**New-CN and NewN**). From the source code above, we have already found out the following\n",
    "\n",
    "**-NewCN =** [0 1 0 0 -c5]\n",
    "\n",
    "**NewN =**\n",
    "\n",
    "[ 1 -3  0  0  1]\n",
    "\n",
    "[ 3  1  1  0  1]\n",
    "\n",
    "[ 6  3  0  1  1]\n",
    "\n",
    "**CB_InvB_NewN =** [3.  1.2 0.6 0.2 0.8]\n",
    "\n",
    "Now, we can get the new first row coefficients corresponding to NBV as(3, 2.2, 0.6. 0.2, 0.8 - c5), \n",
    "\n",
    "**-NewCN + CB_InvB_NewN = [3.  2.2 0.6 0.2 0.8 - c5]**\n",
    "\n",
    "0.8 - c5 >= 0\n",
    "\n",
    "**Hence, in order for optimal value to remain unchanged, the answer is c5 <= 0.8**\n",
    "\n",
    "---\n"
   ]
  },
  {
   "cell_type": "markdown",
   "metadata": {},
   "source": [
    "**(e) (2 marks)** Suppose we add a new constraint to **LP1** and the new constraint is:\n",
    "\n",
    "$$\n",
    "x_1+x_2+x_3+x_4\\le b_4\n",
    "$$\n",
    "For what values of $b_4$, will the optimal solution remain unchanged?"
   ]
  },
  {
   "cell_type": "markdown",
   "metadata": {},
   "source": [
    "---\n",
    "\n",
    "**Answer to (e)**\n",
    "\n",
    "Since we want the following optimal solution to remain unchanged, \n",
    "\n",
    "x1 : 0.0\n",
    "\n",
    "x2 : 0.8\n",
    "\n",
    "x3 : 0.0\n",
    "\n",
    "x4 : 0.6\n",
    "\n",
    "After introducing slack variable to the new constraint, we have\n",
    "\n",
    "x1 + x2 + x3 + x4 + u4 = b4 and u4 >= 0\n",
    "\n",
    "we can get, \n",
    "\n",
    "0.0 + 0.8 + 0.0 + 0.6 + u4 = b4\n",
    "\n",
    "**Hence, as long as b4 >= 1.4, the solution remains unchanged.**\n",
    "\n",
    "---"
   ]
  }
 ],
 "metadata": {
  "kernelspec": {
   "display_name": "Python 3",
   "language": "python",
   "name": "python3"
  },
  "language_info": {
   "codemirror_mode": {
    "name": "ipython",
    "version": 3
   },
   "file_extension": ".py",
   "mimetype": "text/x-python",
   "name": "python",
   "nbconvert_exporter": "python",
   "pygments_lexer": "ipython3",
   "version": "3.7.3"
  }
 },
 "nbformat": 4,
 "nbformat_minor": 2
}
